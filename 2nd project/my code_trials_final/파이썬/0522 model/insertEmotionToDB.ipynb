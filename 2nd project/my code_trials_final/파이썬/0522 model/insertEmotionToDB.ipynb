{
 "cells": [
  {
   "cell_type": "code",
   "execution_count": null,
   "id": "6547fb08",
   "metadata": {},
   "outputs": [],
   "source": [
    "pip install pymysql"
   ]
  },
  {
   "cell_type": "code",
   "execution_count": null,
   "id": "32154067",
   "metadata": {},
   "outputs": [],
   "source": [
    "import pymysql\n",
    "from dotenv import load_dotenv\n",
    "import os"
   ]
  },
  {
   "cell_type": "code",
   "execution_count": null,
   "id": "9e08ff57",
   "metadata": {},
   "outputs": [],
   "source": [
    "#가장 값이 높은 감정의 이름을 별도의 햠수에서 도출하여 DB에 보낸다. user_id도 다른 데서 받을 것.\n",
    "def insert_emotion(emotion=emotion,user_id=user_id):\n",
    "    dotenv_path = 'keys.env_path'\n",
    "    load_dotenv(dotenv_path)\n",
    "    host, port, user, password, db = os.getenv('MYSQL_HOST'),int(os.getenv('MYSQL_PORT')),os.getenv('MYSQL_USER'),os.getenv('MYSQL_PASSWORD'),os.getenv('MYSQL_DATABASE')\n",
    "    conn = pymysql.connect(host=host,port=port, user=user, \n",
    "                           password=password, db=db, charset='utf8')\n",
    "    try:\n",
    "        with conn.cursor() as cursor:\n",
    "            INSERT_SQL = \"\"\"\n",
    "                INSERT INTO TB_EMOTION (USER_ID, EMOTION_VAL) VALUES (%s, %s);\n",
    "            \"\"\"\n",
    "            cursor.execute(INSERT_SQL, (user_id, emotion))\n",
    "            conn.commit()\n",
    "    finally:\n",
    "        conn.close()"
   ]
  }
 ],
 "metadata": {
  "kernelspec": {
   "display_name": "Python 3 (ipykernel)",
   "language": "python",
   "name": "python3"
  },
  "language_info": {
   "codemirror_mode": {
    "name": "ipython",
    "version": 3
   },
   "file_extension": ".py",
   "mimetype": "text/x-python",
   "name": "python",
   "nbconvert_exporter": "python",
   "pygments_lexer": "ipython3",
   "version": "3.11.5"
  }
 },
 "nbformat": 4,
 "nbformat_minor": 5
}
