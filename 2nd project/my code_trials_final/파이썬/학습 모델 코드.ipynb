{
 "cells": [
  {
   "cell_type": "code",
   "execution_count": 99,
   "id": "f6dbb42d",
   "metadata": {},
   "outputs": [
    {
     "name": "stdout",
     "output_type": "stream",
     "text": [
      "Collecting sentence_transformers\n",
      "  Downloading sentence_transformers-2.7.0-py3-none-any.whl.metadata (11 kB)\n",
      "Collecting transformers<5.0.0,>=4.34.0 (from sentence_transformers)\n",
      "  Downloading transformers-4.40.2-py3-none-any.whl.metadata (137 kB)\n",
      "     ---------------------------------------- 0.0/138.0 kB ? eta -:--:--\n",
      "     ---------- -------------------------- 41.0/138.0 kB 991.0 kB/s eta 0:00:01\n",
      "     -------------------------------------- 138.0/138.0 kB 2.7 MB/s eta 0:00:00\n",
      "Requirement already satisfied: tqdm in c:\\users\\smhrd\\anaconda3\\lib\\site-packages (from sentence_transformers) (4.66.2)\n",
      "Requirement already satisfied: torch>=1.11.0 in c:\\users\\smhrd\\anaconda3\\lib\\site-packages (from sentence_transformers) (2.2.2)\n",
      "Requirement already satisfied: numpy in c:\\users\\smhrd\\anaconda3\\lib\\site-packages (from sentence_transformers) (1.26.4)\n",
      "Requirement already satisfied: scikit-learn in c:\\users\\smhrd\\anaconda3\\lib\\site-packages (from sentence_transformers) (1.2.2)\n",
      "Requirement already satisfied: scipy in c:\\users\\smhrd\\anaconda3\\lib\\site-packages (from sentence_transformers) (1.13.0)\n",
      "Requirement already satisfied: huggingface-hub>=0.15.1 in c:\\users\\smhrd\\anaconda3\\lib\\site-packages (from sentence_transformers) (0.15.1)\n",
      "Requirement already satisfied: Pillow in c:\\users\\smhrd\\anaconda3\\lib\\site-packages (from sentence_transformers) (10.3.0)\n",
      "Requirement already satisfied: filelock in c:\\users\\smhrd\\anaconda3\\lib\\site-packages (from huggingface-hub>=0.15.1->sentence_transformers) (3.13.1)\n",
      "Requirement already satisfied: fsspec in c:\\users\\smhrd\\anaconda3\\lib\\site-packages (from huggingface-hub>=0.15.1->sentence_transformers) (2024.3.1)\n",
      "Requirement already satisfied: requests in c:\\users\\smhrd\\anaconda3\\lib\\site-packages (from huggingface-hub>=0.15.1->sentence_transformers) (2.31.0)\n",
      "Requirement already satisfied: pyyaml>=5.1 in c:\\users\\smhrd\\anaconda3\\lib\\site-packages (from huggingface-hub>=0.15.1->sentence_transformers) (6.0.1)\n",
      "Requirement already satisfied: typing-extensions>=3.7.4.3 in c:\\users\\smhrd\\anaconda3\\lib\\site-packages (from huggingface-hub>=0.15.1->sentence_transformers) (4.11.0)\n",
      "Requirement already satisfied: packaging>=20.9 in c:\\users\\smhrd\\anaconda3\\lib\\site-packages (from huggingface-hub>=0.15.1->sentence_transformers) (23.2)\n",
      "Requirement already satisfied: sympy in c:\\users\\smhrd\\anaconda3\\lib\\site-packages (from torch>=1.11.0->sentence_transformers) (1.12)\n",
      "Requirement already satisfied: networkx in c:\\users\\smhrd\\anaconda3\\lib\\site-packages (from torch>=1.11.0->sentence_transformers) (3.1)\n",
      "Requirement already satisfied: jinja2 in c:\\users\\smhrd\\anaconda3\\lib\\site-packages (from torch>=1.11.0->sentence_transformers) (3.1.3)\n",
      "Requirement already satisfied: colorama in c:\\users\\smhrd\\anaconda3\\lib\\site-packages (from tqdm->sentence_transformers) (0.4.6)\n",
      "Collecting huggingface-hub>=0.15.1 (from sentence_transformers)\n",
      "  Downloading huggingface_hub-0.23.0-py3-none-any.whl.metadata (12 kB)\n",
      "Requirement already satisfied: regex!=2019.12.17 in c:\\users\\smhrd\\anaconda3\\lib\\site-packages (from transformers<5.0.0,>=4.34.0->sentence_transformers) (2023.10.3)\n",
      "Collecting tokenizers<0.20,>=0.19 (from transformers<5.0.0,>=4.34.0->sentence_transformers)\n",
      "  Downloading tokenizers-0.19.1-cp311-none-win_amd64.whl.metadata (6.9 kB)\n",
      "Requirement already satisfied: safetensors>=0.4.1 in c:\\users\\smhrd\\anaconda3\\lib\\site-packages (from transformers<5.0.0,>=4.34.0->sentence_transformers) (0.4.2)\n",
      "Requirement already satisfied: joblib>=1.1.1 in c:\\users\\smhrd\\anaconda3\\lib\\site-packages (from scikit-learn->sentence_transformers) (1.4.0)\n",
      "Requirement already satisfied: threadpoolctl>=2.0.0 in c:\\users\\smhrd\\anaconda3\\lib\\site-packages (from scikit-learn->sentence_transformers) (2.2.0)\n",
      "Requirement already satisfied: MarkupSafe>=2.0 in c:\\users\\smhrd\\anaconda3\\lib\\site-packages (from jinja2->torch>=1.11.0->sentence_transformers) (2.1.3)\n",
      "Requirement already satisfied: charset-normalizer<4,>=2 in c:\\users\\smhrd\\anaconda3\\lib\\site-packages (from requests->huggingface-hub>=0.15.1->sentence_transformers) (2.0.4)\n",
      "Requirement already satisfied: idna<4,>=2.5 in c:\\users\\smhrd\\anaconda3\\lib\\site-packages (from requests->huggingface-hub>=0.15.1->sentence_transformers) (3.7)\n",
      "Requirement already satisfied: urllib3<3,>=1.21.1 in c:\\users\\smhrd\\anaconda3\\lib\\site-packages (from requests->huggingface-hub>=0.15.1->sentence_transformers) (2.1.0)\n",
      "Requirement already satisfied: certifi>=2017.4.17 in c:\\users\\smhrd\\anaconda3\\lib\\site-packages (from requests->huggingface-hub>=0.15.1->sentence_transformers) (2024.2.2)\n",
      "Requirement already satisfied: mpmath>=0.19 in c:\\users\\smhrd\\anaconda3\\lib\\site-packages (from sympy->torch>=1.11.0->sentence_transformers) (1.3.0)\n",
      "Downloading sentence_transformers-2.7.0-py3-none-any.whl (171 kB)\n",
      "   ---------------------------------------- 0.0/171.5 kB ? eta -:--:--\n",
      "   ---------------------------------------- 171.5/171.5 kB 5.2 MB/s eta 0:00:00\n",
      "Downloading transformers-4.40.2-py3-none-any.whl (9.0 MB)\n",
      "   ---------------------------------------- 0.0/9.0 MB ? eta -:--:--\n",
      "   - -------------------------------------- 0.4/9.0 MB 13.5 MB/s eta 0:00:01\n",
      "   ---- ----------------------------------- 1.0/9.0 MB 12.3 MB/s eta 0:00:01\n",
      "   ------- -------------------------------- 1.7/9.0 MB 13.8 MB/s eta 0:00:01\n",
      "   ------------ --------------------------- 2.8/9.0 MB 16.3 MB/s eta 0:00:01\n",
      "   ------------------ --------------------- 4.3/9.0 MB 19.5 MB/s eta 0:00:01\n",
      "   --------------------------- ------------ 6.1/9.0 MB 23.1 MB/s eta 0:00:01\n",
      "   --------------------------- ------------ 6.3/9.0 MB 23.7 MB/s eta 0:00:01\n",
      "   --------------------------- ------------ 6.3/9.0 MB 23.7 MB/s eta 0:00:01\n",
      "   --------------------------- ------------ 6.3/9.0 MB 23.7 MB/s eta 0:00:01\n",
      "   --------------------------- ------------ 6.3/9.0 MB 23.7 MB/s eta 0:00:01\n",
      "   ---------------------------------------  8.9/9.0 MB 17.8 MB/s eta 0:00:01\n",
      "   ---------------------------------------- 9.0/9.0 MB 16.5 MB/s eta 0:00:00\n",
      "Downloading huggingface_hub-0.23.0-py3-none-any.whl (401 kB)\n",
      "   ---------------------------------------- 0.0/401.2 kB ? eta -:--:--\n",
      "   --------------------------------------- 401.2/401.2 kB 24.4 MB/s eta 0:00:00\n",
      "Downloading tokenizers-0.19.1-cp311-none-win_amd64.whl (2.2 MB)\n",
      "   ---------------------------------------- 0.0/2.2 MB ? eta -:--:--\n",
      "   ---------------------------------------- 2.2/2.2 MB 71.3 MB/s eta 0:00:00\n",
      "Installing collected packages: huggingface-hub, tokenizers, transformers, sentence_transformers\n",
      "  Attempting uninstall: huggingface-hub\n",
      "    Found existing installation: huggingface-hub 0.15.1\n",
      "    Uninstalling huggingface-hub-0.15.1:\n",
      "      Successfully uninstalled huggingface-hub-0.15.1\n",
      "  Attempting uninstall: tokenizers\n",
      "    Found existing installation: tokenizers 0.13.2\n",
      "    Uninstalling tokenizers-0.13.2:\n",
      "      Successfully uninstalled tokenizers-0.13.2\n",
      "  Attempting uninstall: transformers\n",
      "    Found existing installation: transformers 4.32.1\n",
      "    Uninstalling transformers-4.32.1:\n",
      "      Successfully uninstalled transformers-4.32.1\n",
      "Successfully installed huggingface-hub-0.23.0 sentence_transformers-2.7.0 tokenizers-0.19.1 transformers-4.40.2\n",
      "Note: you may need to restart the kernel to use updated packages.\n"
     ]
    }
   ],
   "source": [
    "pip install sentence_transformers"
   ]
  },
  {
   "cell_type": "code",
   "execution_count": 130,
   "id": "0c7a87c5",
   "metadata": {},
   "outputs": [],
   "source": [
    "# import librosa\n",
    "# import librosa.display\n",
    "# import IPython.display as ipd\n",
    "# from IPython.display import Audio\n",
    "\n",
    "# import IPython.display as ipd\n",
    "\n",
    "import numpy as np\n",
    "import pandas as pd\n",
    "# import pydub #오디오 파일을 다루는 라이브러리 : 변환 조작 재생 분석 등\n",
    "# import gTTS # 텍스트를 음성으로 변환하는 라이브러리. 나는 당장 쓸 일 없을 듯?\n",
    "\n",
    "# from tqdm import tqdm\n",
    "# import np_utils\n",
    "# import matplotlib.pyplot as plt\n",
    "# import seaborn as sns\n",
    "\n",
    "# import winsound as sd\n",
    "# import glob\n",
    "# import os\n",
    "# import json\n",
    "# import shutil\n",
    "# import sys\n",
    "# import logging\n",
    "# import unicodedata\n",
    "# from shutil import copyfile\n",
    "# import warnings\n",
    "# if not sys.warnoptions:\n",
    "#     warnings.simplefilter(\"ignore\")\n",
    "# warnings.filterwarnings(\"ignore\", category=DeprecationWarning) \n",
    "\n",
    "\n",
    "# # import json, pandas as pd # ?? 이러면 어떻게 되는 거지?\n",
    "\n",
    "\n",
    "\n",
    "# import pydub #오디오 파일을 다루는 라이브러리 : 변환 조작 재생 분석 등\n",
    "# import gTTS # 텍스트를 음성으로 변환하는 라이브러리. 나는 당장 쓸 일 없을 듯?\n",
    "# import speech_recognition as sr #음성인식 라이브러리 - 텍스트로 변환\n",
    "# import pyaudio\n",
    "\n",
    "from sklearn.preprocessing import StandardScaler, OneHotEncoder, scale, MinMaxScaler\n",
    "# from sklearn.metrics import confusion_matrix, classification_report\n",
    "from sklearn.model_selection import train_test_split, KFold\n",
    "from sklearn.metrics import accuracy_score\n",
    "from sklearn.svm import SVC \n",
    "\n",
    "\n",
    "import keras\n",
    "from keras.callbacks import ReduceLROnPlateau,ModelCheckpoint,EarlyStopping\n",
    "from keras.models import Sequential\n",
    "from tensorflow.keras.layers import InputLayer, Dense, Conv1D, MaxPooling1D, Flatten, Dropout\n",
    "from tensorflow.keras.optimizers import Adam\n",
    "# from keras.preprocessing.sequence import pad_sequences\n",
    "# from keras.utils import to_categorical\n",
    "\n",
    "# import tensorflow\n",
    "from sentence_transformers import SentenceTransformer\n",
    "\n",
    "\n",
    "# from transformers import PreTrainedTokenizer"
   ]
  },
  {
   "cell_type": "code",
   "execution_count": 2,
   "id": "21f9dd63",
   "metadata": {},
   "outputs": [],
   "source": [
    "# 오류 및 학습 완료 확인 beef 코드 \n",
    "def beepError():\n",
    "    fr = 1000    # range : 37 ~ 32767\n",
    "    du = 2000     # 1000 ms ==1second\n",
    "    sd.Beep(fr, du) # winsound.Beep(frequency, duration)\n",
    "def beepSuccess():\n",
    "    fr = 2000    # range : 37 ~ 32767\n",
    "    du = 1000     # 1000 ms ==1second\n",
    "    sd.Beep(fr, du) # winsound.Beep(frequency, duration)"
   ]
  },
  {
   "cell_type": "code",
   "execution_count": 9,
   "id": "ca9a24e3",
   "metadata": {},
   "outputs": [],
   "source": [
    "# 기본적인 사전 설정\n",
    "rlrp = ReduceLROnPlateau(monitor='loss', factor=0.4, verbose=0, patience=5, min_lr=0.0000001) #learning rate 조절 \n",
    "modelpath = './model/model_{epoch:02d}-{val_accuracy:.4f}.keras'\n",
    "mcp = ModelCheckpoint(\n",
    "    modelpath,     #저장할 모델의 경로\n",
    "  monitor = 'val_accuracy', #val_acc를 기준으로 전보다 모델이 나아지는 걸 확인\n",
    "  save_best_only = True,    #나아진 결과만 저장\n",
    "#     save_weights_only=True , #이걸 써 줘야 weights.h5로 저장 가능하다.\n",
    "  verbose = 1               #과정을 출력\n",
    ")\n",
    "\n",
    "#전보다 나아지지 않으면 학습중단\n",
    "\n",
    "es = EarlyStopping(\n",
    "    monitor = 'val_accuracy',\n",
    "    patience = 5      # 전보다 나아지지 않아도 실행할 횟수\n",
    ")"
   ]
  },
  {
   "cell_type": "code",
   "execution_count": 125,
   "id": "8a2e6d31",
   "metadata": {},
   "outputs": [],
   "source": [
    "#데이터 불러오기\n",
    "X = np.load('./features5.npy') \n",
    "train = pd.read_csv('e:/Data2/csv/train.csv')"
   ]
  },
  {
   "cell_type": "code",
   "execution_count": 52,
   "id": "a0161a20",
   "metadata": {},
   "outputs": [
    {
     "data": {
      "text/html": [
       "<div>\n",
       "<style scoped>\n",
       "    .dataframe tbody tr th:only-of-type {\n",
       "        vertical-align: middle;\n",
       "    }\n",
       "\n",
       "    .dataframe tbody tr th {\n",
       "        vertical-align: top;\n",
       "    }\n",
       "\n",
       "    .dataframe thead th {\n",
       "        text-align: right;\n",
       "    }\n",
       "</style>\n",
       "<table border=\"1\" class=\"dataframe\">\n",
       "  <thead>\n",
       "    <tr style=\"text-align: right;\">\n",
       "      <th></th>\n",
       "      <th>Angry</th>\n",
       "      <th>Disgust</th>\n",
       "      <th>Fear</th>\n",
       "      <th>Happiness</th>\n",
       "      <th>Neutral</th>\n",
       "      <th>Sadness</th>\n",
       "      <th>Surprise</th>\n",
       "    </tr>\n",
       "  </thead>\n",
       "  <tbody>\n",
       "    <tr>\n",
       "      <th>0</th>\n",
       "      <td>0</td>\n",
       "      <td>0</td>\n",
       "      <td>0</td>\n",
       "      <td>0</td>\n",
       "      <td>1</td>\n",
       "      <td>0</td>\n",
       "      <td>0</td>\n",
       "    </tr>\n",
       "    <tr>\n",
       "      <th>1</th>\n",
       "      <td>0</td>\n",
       "      <td>0</td>\n",
       "      <td>0</td>\n",
       "      <td>0</td>\n",
       "      <td>1</td>\n",
       "      <td>0</td>\n",
       "      <td>0</td>\n",
       "    </tr>\n",
       "    <tr>\n",
       "      <th>2</th>\n",
       "      <td>1</td>\n",
       "      <td>0</td>\n",
       "      <td>0</td>\n",
       "      <td>0</td>\n",
       "      <td>0</td>\n",
       "      <td>0</td>\n",
       "      <td>0</td>\n",
       "    </tr>\n",
       "    <tr>\n",
       "      <th>3</th>\n",
       "      <td>0</td>\n",
       "      <td>0</td>\n",
       "      <td>0</td>\n",
       "      <td>0</td>\n",
       "      <td>0</td>\n",
       "      <td>1</td>\n",
       "      <td>0</td>\n",
       "    </tr>\n",
       "    <tr>\n",
       "      <th>4</th>\n",
       "      <td>0</td>\n",
       "      <td>0</td>\n",
       "      <td>0</td>\n",
       "      <td>0</td>\n",
       "      <td>0</td>\n",
       "      <td>1</td>\n",
       "      <td>0</td>\n",
       "    </tr>\n",
       "    <tr>\n",
       "      <th>...</th>\n",
       "      <td>...</td>\n",
       "      <td>...</td>\n",
       "      <td>...</td>\n",
       "      <td>...</td>\n",
       "      <td>...</td>\n",
       "      <td>...</td>\n",
       "      <td>...</td>\n",
       "    </tr>\n",
       "    <tr>\n",
       "      <th>29314</th>\n",
       "      <td>0</td>\n",
       "      <td>0</td>\n",
       "      <td>0</td>\n",
       "      <td>0</td>\n",
       "      <td>1</td>\n",
       "      <td>0</td>\n",
       "      <td>0</td>\n",
       "    </tr>\n",
       "    <tr>\n",
       "      <th>29315</th>\n",
       "      <td>0</td>\n",
       "      <td>0</td>\n",
       "      <td>0</td>\n",
       "      <td>0</td>\n",
       "      <td>1</td>\n",
       "      <td>0</td>\n",
       "      <td>0</td>\n",
       "    </tr>\n",
       "    <tr>\n",
       "      <th>29316</th>\n",
       "      <td>0</td>\n",
       "      <td>0</td>\n",
       "      <td>0</td>\n",
       "      <td>0</td>\n",
       "      <td>1</td>\n",
       "      <td>0</td>\n",
       "      <td>0</td>\n",
       "    </tr>\n",
       "    <tr>\n",
       "      <th>29317</th>\n",
       "      <td>0</td>\n",
       "      <td>0</td>\n",
       "      <td>0</td>\n",
       "      <td>0</td>\n",
       "      <td>1</td>\n",
       "      <td>0</td>\n",
       "      <td>0</td>\n",
       "    </tr>\n",
       "    <tr>\n",
       "      <th>29318</th>\n",
       "      <td>0</td>\n",
       "      <td>0</td>\n",
       "      <td>0</td>\n",
       "      <td>0</td>\n",
       "      <td>1</td>\n",
       "      <td>0</td>\n",
       "      <td>0</td>\n",
       "    </tr>\n",
       "  </tbody>\n",
       "</table>\n",
       "<p>29319 rows × 7 columns</p>\n",
       "</div>"
      ],
      "text/plain": [
       "       Angry  Disgust  Fear  Happiness  Neutral  Sadness  Surprise\n",
       "0          0        0     0          0        1        0         0\n",
       "1          0        0     0          0        1        0         0\n",
       "2          1        0     0          0        0        0         0\n",
       "3          0        0     0          0        0        1         0\n",
       "4          0        0     0          0        0        1         0\n",
       "...      ...      ...   ...        ...      ...      ...       ...\n",
       "29314      0        0     0          0        1        0         0\n",
       "29315      0        0     0          0        1        0         0\n",
       "29316      0        0     0          0        1        0         0\n",
       "29317      0        0     0          0        1        0         0\n",
       "29318      0        0     0          0        1        0         0\n",
       "\n",
       "[29319 rows x 7 columns]"
      ]
     },
     "metadata": {},
     "output_type": "display_data"
    },
    {
     "name": "stdout",
     "output_type": "stream",
     "text": [
      "(29319, 58)\n"
     ]
    }
   ],
   "source": [
    "display(y)\n",
    "print(X.shape)"
   ]
  },
  {
   "cell_type": "code",
   "execution_count": 102,
   "id": "f67ce43f",
   "metadata": {},
   "outputs": [],
   "source": [
    "# 임베딩 함수 설정\n",
    "class text_embedding():\n",
    "    def __init__(self, model_name):\n",
    "        self.model_name = model_name\n",
    "\n",
    "    def fit(self, X, y=None):\n",
    "        return self\n",
    "  \n",
    "    def transform(self, X):\n",
    "        embedding_model = SentenceTransformer(self.model_name)\n",
    "        embedding_vec = embedding_model.encode(train['발화문'])\n",
    "        X_val = np.concatenate((X, embedding_vec), axis = 1)\n",
    "        return X_val"
   ]
  },
  {
   "cell_type": "markdown",
   "id": "e13f4e0d",
   "metadata": {},
   "source": [
    "## CNN 모델(입력 형태 : 3차원)"
   ]
  },
  {
   "cell_type": "code",
   "execution_count": 5,
   "id": "de3c9f02",
   "metadata": {},
   "outputs": [],
   "source": [
    "# from keras.models import Sequential\n",
    "# from tensorflow.keras.layers import InputLayer, Dense, Conv1D, MaxPooling1D, Flatten, Dropout\n",
    "def first_model(x_train):\n",
    "    model=Sequential()\n",
    "    model.add(InputLayer(shape=(200,44)))\n",
    "    model.add(Conv1D(256, kernel_size=5, strides=1, padding='same', activation='relu'))\n",
    "    model.add(MaxPooling1D(pool_size=5, strides = 2, padding = 'same'))\n",
    "\n",
    "    model.add(Conv1D(256, kernel_size=5, strides=1, padding='same', activation='relu'))\n",
    "    model.add(MaxPooling1D(pool_size=5, strides = 2, padding = 'same'))\n",
    "\n",
    "    model.add(Conv1D(128, kernel_size=5, strides=1, padding='same', activation='relu'))\n",
    "    model.add(MaxPooling1D(pool_size=5, strides = 2, padding = 'same'))\n",
    "    model.add(Dropout(0.2))\n",
    "\n",
    "    model.add(Conv1D(64, kernel_size=5, strides=1, padding='same', activation='relu'))\n",
    "    model.add(MaxPooling1D(pool_size=5, strides = 2, padding = 'same'))\n",
    "\n",
    "    model.add(Flatten())\n",
    "    model.add(Dense(units=32, activation='relu'))\n",
    "    model.add(Dropout(0.3))\n",
    "\n",
    "    model.add(Dense(units=7, activation='softmax'))\n",
    "    model.compile(optimizer = 'adam' , loss = 'categorical_crossentropy' , metrics = ['accuracy'])\n",
    "\n",
    "    #model.summary()\n",
    "    return model"
   ]
  },
  {
   "cell_type": "code",
   "execution_count": 112,
   "id": "d161c0fa",
   "metadata": {},
   "outputs": [
    {
     "name": "stderr",
     "output_type": "stream",
     "text": [
      "C:\\Users\\smhrd\\anaconda3\\Lib\\site-packages\\huggingface_hub\\file_download.py:1132: FutureWarning: `resume_download` is deprecated and will be removed in version 1.0.0. Downloads always resume when possible. If you want to force a new download, use `force_download=True`.\n",
      "  warnings.warn(\n"
     ]
    },
    {
     "name": "stdout",
     "output_type": "stream",
     "text": [
      "Epoch 1/50\n"
     ]
    },
    {
     "ename": "ValueError",
     "evalue": "Exception encountered when calling Sequential.call().\n\n\u001b[1mInput 0 of layer \"conv1d\" is incompatible with the layer: expected axis -1 of input shape to have value 44, but received input with shape (None, 3898, 1)\u001b[0m\n\nArguments received by Sequential.call():\n  • inputs=tf.Tensor(shape=(None, 3898, 1), dtype=float32)\n  • training=True\n  • mask=None",
     "output_type": "error",
     "traceback": [
      "\u001b[1;31m---------------------------------------------------------------------------\u001b[0m",
      "\u001b[1;31mValueError\u001b[0m                                Traceback (most recent call last)",
      "Cell \u001b[1;32mIn[112], line 24\u001b[0m\n\u001b[0;32m     22\u001b[0m X_test_scaled \u001b[38;5;241m=\u001b[39m np\u001b[38;5;241m.\u001b[39mexpand_dims(X_test_scaled, axis\u001b[38;5;241m=\u001b[39m\u001b[38;5;241m2\u001b[39m)\n\u001b[0;32m     23\u001b[0m model \u001b[38;5;241m=\u001b[39m first_model(X_train)\n\u001b[1;32m---> 24\u001b[0m history\u001b[38;5;241m=\u001b[39mmodel\u001b[38;5;241m.\u001b[39mfit(X_train_scaled, y_train, batch_size\u001b[38;5;241m=\u001b[39m\u001b[38;5;241m64\u001b[39m, epochs\u001b[38;5;241m=\u001b[39m\u001b[38;5;241m50\u001b[39m, validation_data\u001b[38;5;241m=\u001b[39m(X_test_scaled, y_test), callbacks\u001b[38;5;241m=\u001b[39m[rlrp])\n\u001b[0;32m     26\u001b[0m test_loss, test_acc \u001b[38;5;241m=\u001b[39m model\u001b[38;5;241m.\u001b[39mevaluate(X_test_scaled, y_test, verbose\u001b[38;5;241m=\u001b[39m\u001b[38;5;241m0\u001b[39m)\n\u001b[0;32m     27\u001b[0m \u001b[38;5;28mprint\u001b[39m(\u001b[38;5;124m\"\u001b[39m\u001b[38;5;124mPre-trained Model: \u001b[39m\u001b[38;5;124m\"\u001b[39m, i)\n",
      "File \u001b[1;32m~\\anaconda3\\Lib\\site-packages\\keras\\src\\utils\\traceback_utils.py:122\u001b[0m, in \u001b[0;36mfilter_traceback.<locals>.error_handler\u001b[1;34m(*args, **kwargs)\u001b[0m\n\u001b[0;32m    119\u001b[0m     filtered_tb \u001b[38;5;241m=\u001b[39m _process_traceback_frames(e\u001b[38;5;241m.\u001b[39m__traceback__)\n\u001b[0;32m    120\u001b[0m     \u001b[38;5;66;03m# To get the full stack trace, call:\u001b[39;00m\n\u001b[0;32m    121\u001b[0m     \u001b[38;5;66;03m# `keras.config.disable_traceback_filtering()`\u001b[39;00m\n\u001b[1;32m--> 122\u001b[0m     \u001b[38;5;28;01mraise\u001b[39;00m e\u001b[38;5;241m.\u001b[39mwith_traceback(filtered_tb) \u001b[38;5;28;01mfrom\u001b[39;00m \u001b[38;5;28;01mNone\u001b[39;00m\n\u001b[0;32m    123\u001b[0m \u001b[38;5;28;01mfinally\u001b[39;00m:\n\u001b[0;32m    124\u001b[0m     \u001b[38;5;28;01mdel\u001b[39;00m filtered_tb\n",
      "File \u001b[1;32m~\\anaconda3\\Lib\\site-packages\\keras\\src\\layers\\input_spec.py:227\u001b[0m, in \u001b[0;36massert_input_compatibility\u001b[1;34m(input_spec, inputs, layer_name)\u001b[0m\n\u001b[0;32m    222\u001b[0m     \u001b[38;5;28;01mfor\u001b[39;00m axis, value \u001b[38;5;129;01min\u001b[39;00m spec\u001b[38;5;241m.\u001b[39maxes\u001b[38;5;241m.\u001b[39mitems():\n\u001b[0;32m    223\u001b[0m         \u001b[38;5;28;01mif\u001b[39;00m value \u001b[38;5;129;01mis\u001b[39;00m \u001b[38;5;129;01mnot\u001b[39;00m \u001b[38;5;28;01mNone\u001b[39;00m \u001b[38;5;129;01mand\u001b[39;00m shape[axis] \u001b[38;5;129;01mnot\u001b[39;00m \u001b[38;5;129;01min\u001b[39;00m {\n\u001b[0;32m    224\u001b[0m             value,\n\u001b[0;32m    225\u001b[0m             \u001b[38;5;28;01mNone\u001b[39;00m,\n\u001b[0;32m    226\u001b[0m         }:\n\u001b[1;32m--> 227\u001b[0m             \u001b[38;5;28;01mraise\u001b[39;00m \u001b[38;5;167;01mValueError\u001b[39;00m(\n\u001b[0;32m    228\u001b[0m                 \u001b[38;5;124mf\u001b[39m\u001b[38;5;124m'\u001b[39m\u001b[38;5;124mInput \u001b[39m\u001b[38;5;132;01m{\u001b[39;00minput_index\u001b[38;5;132;01m}\u001b[39;00m\u001b[38;5;124m of layer \u001b[39m\u001b[38;5;124m\"\u001b[39m\u001b[38;5;132;01m{\u001b[39;00mlayer_name\u001b[38;5;132;01m}\u001b[39;00m\u001b[38;5;124m\"\u001b[39m\u001b[38;5;124m is \u001b[39m\u001b[38;5;124m'\u001b[39m\n\u001b[0;32m    229\u001b[0m                 \u001b[38;5;124mf\u001b[39m\u001b[38;5;124m\"\u001b[39m\u001b[38;5;124mincompatible with the layer: expected axis \u001b[39m\u001b[38;5;132;01m{\u001b[39;00maxis\u001b[38;5;132;01m}\u001b[39;00m\u001b[38;5;124m \u001b[39m\u001b[38;5;124m\"\u001b[39m\n\u001b[0;32m    230\u001b[0m                 \u001b[38;5;124mf\u001b[39m\u001b[38;5;124m\"\u001b[39m\u001b[38;5;124mof input shape to have value \u001b[39m\u001b[38;5;132;01m{\u001b[39;00mvalue\u001b[38;5;132;01m}\u001b[39;00m\u001b[38;5;124m, \u001b[39m\u001b[38;5;124m\"\u001b[39m\n\u001b[0;32m    231\u001b[0m                 \u001b[38;5;124m\"\u001b[39m\u001b[38;5;124mbut received input with \u001b[39m\u001b[38;5;124m\"\u001b[39m\n\u001b[0;32m    232\u001b[0m                 \u001b[38;5;124mf\u001b[39m\u001b[38;5;124m\"\u001b[39m\u001b[38;5;124mshape \u001b[39m\u001b[38;5;132;01m{\u001b[39;00mshape\u001b[38;5;132;01m}\u001b[39;00m\u001b[38;5;124m\"\u001b[39m\n\u001b[0;32m    233\u001b[0m             )\n\u001b[0;32m    234\u001b[0m \u001b[38;5;66;03m# Check shape.\u001b[39;00m\n\u001b[0;32m    235\u001b[0m \u001b[38;5;28;01mif\u001b[39;00m spec\u001b[38;5;241m.\u001b[39mshape \u001b[38;5;129;01mis\u001b[39;00m \u001b[38;5;129;01mnot\u001b[39;00m \u001b[38;5;28;01mNone\u001b[39;00m:\n",
      "\u001b[1;31mValueError\u001b[0m: Exception encountered when calling Sequential.call().\n\n\u001b[1mInput 0 of layer \"conv1d\" is incompatible with the layer: expected axis -1 of input shape to have value 44, but received input with shape (None, 3898, 1)\u001b[0m\n\nArguments received by Sequential.call():\n  • inputs=tf.Tensor(shape=(None, 3898, 1), dtype=float32)\n  • training=True\n  • mask=None"
     ]
    }
   ],
   "source": [
    "scaler = StandardScaler()\n",
    "encoder = OneHotEncoder()\n",
    "\n",
    "pre_trained_models = ['sentence-transformers/xlm-r-100langs-bert-base-nli-stsb-mean-tokens',\n",
    "'sentence-transformers/multi-qa-distilbert-cos-v1',\n",
    "'jhgan/ko-sroberta-multitask',\n",
    "'all-distilroberta-v1',\n",
    "'jhgan/ko-sbert-multitask',\n",
    "'all-MiniLM-L12-v2', 'jhgan/ko-sroberta-sts']\n",
    "\n",
    "\n",
    "y =train.iloc[:,-7:]\n",
    "for i in pre_trained_models:\n",
    "    txt_embed = text_embedding(model_name = i)\n",
    "    X = txt_embed.transform(X)\n",
    "\n",
    "    X_train, X_test, y_train, y_test = train_test_split(X, y, random_state=0, shuffle=True)\n",
    "    X_train_scaled = scaler.fit_transform(X_train)\n",
    "    X_test_scaled = scaler.transform(X_test)\n",
    "\n",
    "    X_train_scaled = np.expand_dims(X_train_scaled, axis=2)\n",
    "    X_test_scaled = np.expand_dims(X_test_scaled, axis=2)\n",
    "    model = first_model(X_train)\n",
    "    history=model.fit(X_train_scaled, y_train, batch_size=64, epochs=50, validation_data=(X_test_scaled, y_test), callbacks=[rlrp])\n",
    "\n",
    "    test_loss, test_acc = model.evaluate(X_test_scaled, y_test, verbose=0)\n",
    "    print(\"Pre-trained Model: \", i)\n",
    "    print(\"Test Accuracy: \",test_acc)"
   ]
  },
  {
   "cell_type": "markdown",
   "id": "c6c9125f",
   "metadata": {},
   "source": [
    "## SVM(Support Vector Model)"
   ]
  },
  {
   "cell_type": "code",
   "execution_count": 84,
   "id": "57e16bc1",
   "metadata": {},
   "outputs": [
    {
     "name": "stdout",
     "output_type": "stream",
     "text": [
      "각 분할의 정확도 기록:  [0.5160300136425648]\n",
      "평균 정확도 : 0.5160300136425648\n"
     ]
    }
   ],
   "source": [
    "pre_trained_models = ['sentence-transformers/xlm-r-100langs-bert-base-nli-stsb-mean-tokens',\n",
    "'sentence-transformers/multi-qa-distilbert-cos-v1',\n",
    "'jhgan/ko-sroberta-multitask',\n",
    "'all-distilroberta-v1',\n",
    "'jhgan/ko-sbert-multitask',\n",
    "'all-MiniLM-L12-v2', 'jhgan/ko-sroberta-sts']\n",
    "\n",
    "\n",
    "accuracy_history = []\n",
    "y = train['감정']\n",
    "\n",
    "#K-fold cross validation (train data 800개, test data 200개)\n",
    "\n",
    "# kf = KFold(n_splits=5, shuffle=True, random_state=50) \n",
    "# #그룹을 다섯개로 나눔 (1000개의 데이터를 5개그룹으로 나누어 한개의 그룹이 test용 데이터가 됨)\n",
    "\n",
    "# for train_index, test_index in kf.split(X):\n",
    "#     #데이터 스플릿(5개의 그룹으로 나누었으니 train용과 test용을 구분함)\n",
    "#     X_train, X_test = X[train_index], X[test_index]\n",
    "#     y_train, y_test = y[train_index], y[test_index]\n",
    "    \n",
    "\n",
    "X_train, X_test, y_train,y_test =train_test_split(X,y,random_state=5,stratify=y,test_size=0.3)\n",
    "#MinMAx Scaler을 이용한 특징 벡터 전처리\n",
    "scaler = MinMaxScaler()\n",
    "scaler.fit(X_train)\n",
    "X_train_scaled = scaler.transform(X_train)\n",
    "X_test_scaled = scaler.transform(X_test)\n",
    "\n",
    "#분류기 커널 설정\n",
    "clf = SVC(C=100, kernel='rbf', probability=True)\n",
    "#분류기 학습\n",
    "clf.fit(X_train_scaled, y_train)\n",
    "#예측 결과\n",
    "y_pred = clf.predict(X_test_scaled)\n",
    "accuracy_history.append(accuracy_score(y_pred, y_test))\n",
    "    \n",
    "\n",
    "    \n",
    "print(\"정확도 :\", np.mean(accuracy_history))"
   ]
  },
  {
   "cell_type": "code",
   "execution_count": 91,
   "id": "6c5d76c7",
   "metadata": {},
   "outputs": [
    {
     "data": {
      "text/plain": [
       "(8796,)"
      ]
     },
     "execution_count": 91,
     "metadata": {},
     "output_type": "execute_result"
    }
   ],
   "source": [
    "y_pred.shape"
   ]
  },
  {
   "cell_type": "markdown",
   "id": "bdd363eb",
   "metadata": {},
   "source": [
    "## ANN (Artificial Neural Network)"
   ]
  },
  {
   "cell_type": "code",
   "execution_count": 48,
   "id": "2368cda7",
   "metadata": {},
   "outputs": [
    {
     "data": {
      "text/plain": [
       "array([0, 1], dtype=int64)"
      ]
     },
     "execution_count": 48,
     "metadata": {},
     "output_type": "execute_result"
    }
   ],
   "source": [
    "np.unique(y_train)"
   ]
  },
  {
   "cell_type": "code",
   "execution_count": 128,
   "id": "41629798",
   "metadata": {
    "scrolled": true
   },
   "outputs": [
    {
     "name": "stdout",
     "output_type": "stream",
     "text": [
      "Epoch 1/100\n"
     ]
    },
    {
     "name": "stderr",
     "output_type": "stream",
     "text": [
      "C:\\Users\\smhrd\\anaconda3\\Lib\\site-packages\\keras\\src\\layers\\core\\dense.py:87: UserWarning: Do not pass an `input_shape`/`input_dim` argument to a layer. When using Sequential models, prefer using an `Input(shape)` object as the first layer in the model instead.\n",
      "  super().__init__(activity_regularizer=activity_regularizer, **kwargs)\n"
     ]
    },
    {
     "name": "stdout",
     "output_type": "stream",
     "text": [
      "\u001b[1m614/642\u001b[0m \u001b[32m━━━━━━━━━━━━━━━━━━━\u001b[0m\u001b[37m━\u001b[0m \u001b[1m0s\u001b[0m 1ms/step - accuracy: 0.3898 - loss: 1.6340\n",
      "Epoch 1: val_accuracy did not improve from 0.78013\n",
      "\u001b[1m642/642\u001b[0m \u001b[32m━━━━━━━━━━━━━━━━━━━━\u001b[0m\u001b[37m\u001b[0m \u001b[1m4s\u001b[0m 2ms/step - accuracy: 0.3909 - loss: 1.6312 - val_accuracy: 0.4549 - val_loss: 1.4905 - learning_rate: 0.0010\n",
      "Epoch 2/100\n",
      "\u001b[1m612/642\u001b[0m \u001b[32m━━━━━━━━━━━━━━━━━━━\u001b[0m\u001b[37m━\u001b[0m \u001b[1m0s\u001b[0m 1ms/step - accuracy: 0.4419 - loss: 1.5061\n",
      "Epoch 2: val_accuracy did not improve from 0.78013\n",
      "\u001b[1m642/642\u001b[0m \u001b[32m━━━━━━━━━━━━━━━━━━━━\u001b[0m\u001b[37m\u001b[0m \u001b[1m1s\u001b[0m 2ms/step - accuracy: 0.4423 - loss: 1.5050 - val_accuracy: 0.4681 - val_loss: 1.4512 - learning_rate: 0.0010\n",
      "Epoch 3/100\n",
      "\u001b[1m619/642\u001b[0m \u001b[32m━━━━━━━━━━━━━━━━━━━\u001b[0m\u001b[37m━\u001b[0m \u001b[1m0s\u001b[0m 1ms/step - accuracy: 0.4617 - loss: 1.4526\n",
      "Epoch 3: val_accuracy did not improve from 0.78013\n",
      "\u001b[1m642/642\u001b[0m \u001b[32m━━━━━━━━━━━━━━━━━━━━\u001b[0m\u001b[37m\u001b[0m \u001b[1m1s\u001b[0m 2ms/step - accuracy: 0.4617 - loss: 1.4526 - val_accuracy: 0.4748 - val_loss: 1.4234 - learning_rate: 0.0010\n",
      "Epoch 4/100\n",
      "\u001b[1m642/642\u001b[0m \u001b[32m━━━━━━━━━━━━━━━━━━━━\u001b[0m\u001b[37m\u001b[0m \u001b[1m0s\u001b[0m 2ms/step - accuracy: 0.4709 - loss: 1.4326\n",
      "Epoch 4: val_accuracy did not improve from 0.78013\n",
      "\u001b[1m642/642\u001b[0m \u001b[32m━━━━━━━━━━━━━━━━━━━━\u001b[0m\u001b[37m\u001b[0m \u001b[1m1s\u001b[0m 2ms/step - accuracy: 0.4709 - loss: 1.4326 - val_accuracy: 0.4782 - val_loss: 1.4106 - learning_rate: 0.0010\n",
      "Epoch 5/100\n",
      "\u001b[1m619/642\u001b[0m \u001b[32m━━━━━━━━━━━━━━━━━━━\u001b[0m\u001b[37m━\u001b[0m \u001b[1m0s\u001b[0m 1ms/step - accuracy: 0.4855 - loss: 1.3989\n",
      "Epoch 5: val_accuracy did not improve from 0.78013\n",
      "\u001b[1m642/642\u001b[0m \u001b[32m━━━━━━━━━━━━━━━━━━━━\u001b[0m\u001b[37m\u001b[0m \u001b[1m1s\u001b[0m 2ms/step - accuracy: 0.4853 - loss: 1.3993 - val_accuracy: 0.4814 - val_loss: 1.4016 - learning_rate: 0.0010\n",
      "\u001b[1m275/275\u001b[0m \u001b[32m━━━━━━━━━━━━━━━━━━━━\u001b[0m\u001b[37m\u001b[0m \u001b[1m0s\u001b[0m 925us/step\n",
      "Training accuracy: 0.47994932532310486\n",
      "Validation accuracy: 0.4813551604747772\n",
      "Test accuracy: 0.22055479763528876\n"
     ]
    }
   ],
   "source": [
    "y =train.iloc[:,-7:]\n",
    "\n",
    "X_train,X_test,y_train,y_test = train_test_split(X,y,random_state=5,stratify=y,test_size=0.3)\n",
    "\n",
    "# scaler = MinMaxScaler()\n",
    "scaler =StandardScaler()\n",
    "scaler.fit(X_train)\n",
    "X_train_scaled = scaler.transform(X_train)\n",
    "X_test_scaled = scaler.transform(X_test)\n",
    "\n",
    "\n",
    "# Define the model architecture\n",
    "model = Sequential()\n",
    "model.add(Dense(units=256, activation='relu', input_dim=X_train.shape[1]))\n",
    "model.add(Dropout(0.2))\n",
    "model.add(Dense(units=256, activation='relu'))\n",
    "model.add(Dropout(0.2))\n",
    "model.add(Dense(units=256, activation='relu'))\n",
    "model.add(Dropout(0.2))\n",
    "model.add(Dense(units=256, activation='relu'))\n",
    "model.add(Dropout(0.2))\n",
    "model.add(Dense(units=7, activation='softmax'))  # Adjusted to use np.unique for flexibility\n",
    "\n",
    "# Compile the model\n",
    "model.compile(optimizer=Adam(), loss='categorical_crossentropy', metrics=['accuracy'])\n",
    "\n",
    "# Fit the model\n",
    "history = model.fit(X_train_scaled, y_train, epochs=100, batch_size=32, verbose=1, validation_data=(X_test_scaled, y_test),callbacks=[rlrp,mcp,es])\n",
    "\n",
    "# Retrieve training and validation accuracy\n",
    "train_accuracy = history.history['accuracy'][-1]  # Last epoch accuracy\n",
    "val_accuracy = history.history['val_accuracy'][-1]  # Last epoch validation accuracy\n",
    "\n",
    "# Predict on test set\n",
    "y_pred = model.predict(X_test_scaled)\n",
    "# 임계값 설정\n",
    "threshold = 0.3\n",
    "\n",
    "# 확률이 임계값보다 크면 1로, 작으면 0으로 분류\n",
    "y_pred_labels = (y_pred > threshold).astype(int)\n",
    "# y_pred_labels = np.argmax(y_pred, axis=1)\n",
    "\n",
    "# Calculate test accuracy\n",
    "test_accuracy = accuracy_score(y_test, y_pred_labels)\n",
    "\n",
    "# Print accuracies\n",
    "print('Training accuracy:', train_accuracy)\n",
    "print('Validation accuracy:', val_accuracy)\n",
    "print('Test accuracy:', test_accuracy)"
   ]
  },
  {
   "cell_type": "code",
   "execution_count": 83,
   "id": "b58b6917",
   "metadata": {},
   "outputs": [
    {
     "name": "stdout",
     "output_type": "stream",
     "text": [
      "[0.24236138 0.13584226 0.04317892 0.3490404  0.14114809 0.03996916\n",
      " 0.04845984]\n",
      "[0.15685809 0.14100881 0.12852958 0.17451671 0.14175898 0.1281177\n",
      " 0.12921013]\n",
      "1.0000000521540642\n",
      "0.9999999850988388\n"
     ]
    }
   ],
   "source": [
    "# emotion_list = ['Angry','Disgust','Fear','Happiness','Neutral','Sadness','Surprise']\n",
    "\n",
    "# #softmax 함수를 사용하여 각 클래스에 속할 확률 계산\n",
    "# probabilities = np.exp(y_pred) / np.sum(np.exp(y_pred), axis=1, keepdims=True)\n",
    "print(y_pred[0])\n",
    "print(probabilities[0])\n",
    "print(sum(y_pred[0]))\n",
    "print(sum(probabilities[0]))\n",
    "# # 각 클래스에 속할 확률 출력\n",
    "# for i, prob in enumerate(probabilities):\n",
    "#     print(f\"\"\"당신의 {i + 1}번째 감정은 {emotion_list[0]}일 확률 : {prob[0]},{emotion_list[1]}일 확률 : {prob[1]},{emotion_list[2]}일 확률 : {prob[2]},{emotion_list[3]}일 확률 : {prob[3]},{emotion_list[4]}일 확률 : {prob[4]},{emotion_list[5]}일 확률 : {prob[5]},\n",
    "#     {emotion_list[6]}일 확률 : {prob[0]}입니다.\"\"\")"
   ]
  },
  {
   "cell_type": "markdown",
   "id": "5c292245",
   "metadata": {},
   "source": [
    "## Xgboost"
   ]
  },
  {
   "cell_type": "code",
   "execution_count": 57,
   "id": "1ce93f72",
   "metadata": {},
   "outputs": [
    {
     "name": "stdout",
     "output_type": "stream",
     "text": [
      "Collecting xgboost\n",
      "  Downloading xgboost-2.0.3-py3-none-win_amd64.whl.metadata (2.0 kB)\n",
      "Requirement already satisfied: numpy in c:\\users\\smhrd\\anaconda3\\lib\\site-packages (from xgboost) (1.26.4)\n",
      "Requirement already satisfied: scipy in c:\\users\\smhrd\\anaconda3\\lib\\site-packages (from xgboost) (1.13.0)\n",
      "Downloading xgboost-2.0.3-py3-none-win_amd64.whl (99.8 MB)\n",
      "   ---------------------------------------- 0.0/99.8 MB ? eta -:--:--\n",
      "   ---------------------------------------- 0.0/99.8 MB 640.0 kB/s eta 0:02:36\n",
      "   ---------------------------------------- 0.1/99.8 MB 2.1 MB/s eta 0:00:48\n",
      "   ---------------------------------------- 0.5/99.8 MB 4.8 MB/s eta 0:00:21\n",
      "   ---------------------------------------- 1.0/99.8 MB 6.5 MB/s eta 0:00:16\n",
      "    --------------------------------------- 1.8/99.8 MB 8.6 MB/s eta 0:00:12\n",
      "   - -------------------------------------- 2.6/99.8 MB 10.5 MB/s eta 0:00:10\n",
      "   - -------------------------------------- 4.0/99.8 MB 13.4 MB/s eta 0:00:08\n",
      "   -- ------------------------------------- 5.7/99.8 MB 16.5 MB/s eta 0:00:06\n",
      "   --- ------------------------------------ 8.1/99.8 MB 20.7 MB/s eta 0:00:05\n",
      "   ---- ----------------------------------- 11.1/99.8 MB 34.4 MB/s eta 0:00:03\n",
      "   ------ --------------------------------- 15.3/99.8 MB 65.6 MB/s eta 0:00:02\n",
      "   -------- ------------------------------- 20.1/99.8 MB 93.9 MB/s eta 0:00:01\n",
      "   --------- ------------------------------ 24.2/99.8 MB 108.8 MB/s eta 0:00:01\n",
      "   --------- ------------------------------ 24.3/99.8 MB 73.1 MB/s eta 0:00:02\n",
      "   --------- ------------------------------ 24.4/99.8 MB 59.5 MB/s eta 0:00:02\n",
      "   --------- ------------------------------ 24.6/99.8 MB 43.5 MB/s eta 0:00:02\n",
      "   --------- ------------------------------ 24.8/99.8 MB 36.3 MB/s eta 0:00:03\n",
      "   ---------- ----------------------------- 25.3/99.8 MB 31.1 MB/s eta 0:00:03\n",
      "   ---------- ----------------------------- 25.5/99.8 MB 28.4 MB/s eta 0:00:03\n",
      "   ---------- ----------------------------- 25.8/99.8 MB 25.2 MB/s eta 0:00:03\n",
      "   ---------- ----------------------------- 27.4/99.8 MB 22.6 MB/s eta 0:00:04\n",
      "   ------------ --------------------------- 32.1/99.8 MB 22.6 MB/s eta 0:00:03\n",
      "   -------------- ------------------------- 36.5/99.8 MB 93.9 MB/s eta 0:00:01\n",
      "   ---------------- ----------------------- 41.3/99.8 MB 93.0 MB/s eta 0:00:01\n",
      "   ------------------ --------------------- 46.1/99.8 MB 93.0 MB/s eta 0:00:01\n",
      "   -------------------- ------------------- 50.4/99.8 MB 93.0 MB/s eta 0:00:01\n",
      "   --------------------- ------------------ 54.8/99.8 MB 93.9 MB/s eta 0:00:01\n",
      "   ----------------------- ---------------- 58.8/99.8 MB 93.9 MB/s eta 0:00:01\n",
      "   ------------------------- -------------- 63.6/99.8 MB 93.9 MB/s eta 0:00:01\n",
      "   --------------------------- ------------ 68.7/99.8 MB 93.9 MB/s eta 0:00:01\n",
      "   ----------------------------- ---------- 73.7/99.8 MB 108.8 MB/s eta 0:00:01\n",
      "   ------------------------------- -------- 78.3/99.8 MB 108.8 MB/s eta 0:00:01\n",
      "   -------------------------------- ------- 81.7/99.8 MB 93.0 MB/s eta 0:00:01\n",
      "   ---------------------------------- ----- 86.1/99.8 MB 93.0 MB/s eta 0:00:01\n",
      "   ------------------------------------ --- 91.0/99.8 MB 110.0 MB/s eta 0:00:01\n",
      "   -------------------------------------- - 94.9/99.8 MB 93.9 MB/s eta 0:00:01\n",
      "   ---------------------------------------  99.7/99.8 MB 93.9 MB/s eta 0:00:01\n",
      "   ---------------------------------------  99.7/99.8 MB 93.9 MB/s eta 0:00:01\n",
      "   ---------------------------------------  99.7/99.8 MB 93.9 MB/s eta 0:00:01\n",
      "   ---------------------------------------  99.7/99.8 MB 93.9 MB/s eta 0:00:01\n",
      "   ---------------------------------------  99.7/99.8 MB 93.9 MB/s eta 0:00:01\n",
      "   ---------------------------------------  99.7/99.8 MB 93.9 MB/s eta 0:00:01\n",
      "   ---------------------------------------  99.7/99.8 MB 93.9 MB/s eta 0:00:01\n",
      "   ---------------------------------------  99.7/99.8 MB 93.9 MB/s eta 0:00:01\n",
      "   ---------------------------------------  99.7/99.8 MB 93.9 MB/s eta 0:00:01\n",
      "   ---------------------------------------- 99.8/99.8 MB 20.4 MB/s eta 0:00:00\n",
      "Installing collected packages: xgboost\n",
      "Successfully installed xgboost-2.0.3\n",
      "Note: you may need to restart the kernel to use updated packages.\n"
     ]
    }
   ],
   "source": [
    "pip install xgboost"
   ]
  },
  {
   "cell_type": "code",
   "execution_count": 60,
   "id": "ee8c35f6",
   "metadata": {},
   "outputs": [
    {
     "name": "stdout",
     "output_type": "stream",
     "text": [
      "Accuracy: 0.29\n"
     ]
    }
   ],
   "source": [
    "from xgboost import XGBClassifier #xgboost 모델이 좋다길래 ..!!\n",
    "from sklearn.metrics import accuracy_score\n",
    "\n",
    "scaler = StandardScaler()\n",
    "scaler.fit(X_train)\n",
    "X_train_scaled = scaler.transform(X_train)\n",
    "X_test_scaled = scaler.transform(X_test)\n",
    "\n",
    "\n",
    "xgb = XGBClassifier(n_estimators=1000, learning_rate=0.05) #1000개의 가지? epoch? , 0.05 학습률\n",
    "xgb.fit(X_train_scaled, y_train) #학습\n",
    "\n",
    "y_preds = xgb.predict(X_test_scaled) #검증\n",
    "\n",
    "print('Accuracy: %.2f' % accuracy_score(y_test,y_preds))"
   ]
  },
  {
   "cell_type": "code",
   "execution_count": 131,
   "id": "23ddbeaa",
   "metadata": {},
   "outputs": [],
   "source": [
    "model = keras.models.load_model('./model/model_06-0.8196.keras')"
   ]
  },
  {
   "cell_type": "code",
   "execution_count": null,
   "id": "3e0bd34f",
   "metadata": {},
   "outputs": [],
   "source": []
  }
 ],
 "metadata": {
  "kernelspec": {
   "display_name": "Python 3 (ipykernel)",
   "language": "python",
   "name": "python3"
  },
  "language_info": {
   "codemirror_mode": {
    "name": "ipython",
    "version": 3
   },
   "file_extension": ".py",
   "mimetype": "text/x-python",
   "name": "python",
   "nbconvert_exporter": "python",
   "pygments_lexer": "ipython3",
   "version": "3.11.5"
  }
 },
 "nbformat": 4,
 "nbformat_minor": 5
}
