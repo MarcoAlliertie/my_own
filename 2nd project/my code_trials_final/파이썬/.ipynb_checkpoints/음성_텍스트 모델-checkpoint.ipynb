{
 "cells": [
  {
   "cell_type": "code",
   "execution_count": 3,
   "metadata": {
    "executionInfo": {
     "elapsed": 3,
     "status": "ok",
     "timestamp": 1714523147596,
     "user": {
      "displayName": "그별이(Star just for you)",
      "userId": "01788593025228296320"
     },
     "user_tz": -540
    },
    "id": "REbIG_mvhtB1"
   },
   "outputs": [],
   "source": [
    "from tensorflow.keras import Sequential\n",
    "from tensorflow.keras.layers import InputLayer, Dense, LSTM"
   ]
  },
  {
   "cell_type": "markdown",
   "metadata": {
    "id": "opngw8nuno1-"
   },
   "source": [
    "#### Speech 모델"
   ]
  },
  {
   "cell_type": "code",
   "execution_count": null,
   "metadata": {
    "id": "fDgdcJGKihwO"
   },
   "outputs": [],
   "source": [
    "# speech 모델 생성\n",
    "speech_based_model = Sequential()\n",
    "\n",
    "speech_based_model.add(InputLayer(input_Shape=(타임스탭, 특징set 차원 수)))\n",
    "speech_based_model.add(LSTM(256, return_sequences=True))\n",
    "speech_based_model.add(LSTM(256))\n",
    "speech_based_model.add(Dense(128, activation='relu'))\n",
    "speech_based_model.add(Dense(7, activation='softmax'))\n",
    "\n",
    "speech_based_model.compile(\n",
    "    loss = 'categorical_crossentropy',\n",
    "    optimizer = 'adam',\n",
    "    metrics = ['accuracy']\n",
    ")"
   ]
  },
  {
   "cell_type": "code",
   "execution_count": null,
   "metadata": {
    "id": "hobXCm9AkzKu"
   },
   "outputs": [],
   "source": [
    "# speech 모델 학습\n",
    "speech_history = speech_based_model.fit(학습 문제 데이터, 학습 정답 데이터,\n",
    "                                        validation_split = 0.3,\n",
    "                                        epochs = ,\n",
    "                                        batch_size = )"
   ]
  },
  {
   "cell_type": "markdown",
   "metadata": {
    "id": "1_Y4BGm-nrBl"
   },
   "source": [
    "#### Text 모델"
   ]
  },
  {
   "cell_type": "code",
   "execution_count": null,
   "metadata": {
    "id": "T_SAIWiCnb5s"
   },
   "outputs": [],
   "source": [
    "# text embedding\n",
    "\n",
    "\n",
    "\n"
   ]
  },
  {
   "cell_type": "code",
   "execution_count": null,
   "metadata": {
    "id": "7O-ov7ElksFn"
   },
   "outputs": [],
   "source": [
    "# text 모델 생성\n",
    "text_based_model = Sequential()\n",
    "\n",
    "text_based_model.add(InputLayer(input_Shape=(타임스탭, 특징set 차원 수)))\n",
    "text_based_model.add(LSTM(256))\n",
    "text_based_model.add(Dense(128, activation='relu'))\n",
    "text_based_model.add(Dense(7, activation='softmax'))\n",
    "\n",
    "text_based_model.compile(\n",
    "    loss = 'categorical_crossentropy',\n",
    "    optimizer = 'adam',\n",
    "    metrics = ['accuracy']\n",
    ")"
   ]
  },
  {
   "cell_type": "code",
   "execution_count": null,
   "metadata": {
    "id": "_OnNR7IYneP2"
   },
   "outputs": [],
   "source": [
    "# text 모델 학습\n",
    "text_history = text_based_model.fit(학습 문제 데이터, 학습 정답 데이터,\n",
    "                                    validation_split = 0.3,\n",
    "                                    epochs = ,\n",
    "                                    batch_size = )"
   ]
  }
 ],
 "metadata": {
  "colab": {
   "authorship_tag": "ABX9TyMR4A0VMXqCwmFmE792XWTp",
   "provenance": []
  },
  "kernelspec": {
   "display_name": "Python 3 (ipykernel)",
   "language": "python",
   "name": "python3"
  },
  "language_info": {
   "codemirror_mode": {
    "name": "ipython",
    "version": 3
   },
   "file_extension": ".py",
   "mimetype": "text/x-python",
   "name": "python",
   "nbconvert_exporter": "python",
   "pygments_lexer": "ipython3",
   "version": "3.11.5"
  }
 },
 "nbformat": 4,
 "nbformat_minor": 1
}
