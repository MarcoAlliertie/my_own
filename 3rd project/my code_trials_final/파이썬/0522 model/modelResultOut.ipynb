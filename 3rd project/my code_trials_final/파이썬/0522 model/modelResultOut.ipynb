{
 "cells": [
  {
   "cell_type": "code",
   "execution_count": 14,
   "id": "0dea28d1",
   "metadata": {},
   "outputs": [],
   "source": [
    "import numpy as np\n",
    "import getFeature as gf\n",
    "from tqdm.auto import tqdm\n",
    "from tensorflow import keras\n",
    "import joblib\n",
    "\n",
    "# import os\n",
    "# os.environ['TF_CPP_MIN_LOG_LEVEL'] = '2'"
   ]
  },
  {
   "cell_type": "code",
   "execution_count": 18,
   "id": "63974f45",
   "metadata": {},
   "outputs": [],
   "source": [
    "def modelResult(user_input_audio,user_input_text):\n",
    "    scaler = joblib.load('./scaler/sscaler_9.pkl')\n",
    "    pre_trained_embed_model = 'jhgan/ko-sroberta-multitask'\n",
    "    audio_features = gf.extract_feature(user_input_audio)\n",
    "    audio_features_realized = np.real(audio_features)\n",
    "    txt_embedder = gf.text_embedding(model_name = pre_trained_embed_model)\n",
    "    txt_embed = txt_embedder.transform(audio_features_realized,user_input_text)\n",
    "    scaled_features = scaler.transform(txt_embed)\n",
    "    result = np.expand_dims(scaled_features,axis=1)\n",
    "    pred = model.predict(result)\n",
    "#     pred_index = np.argmax(pred) #배열로 나온 각 모델의 4개 클래스 확률 값을 평균화\n",
    "#     emotions_list = ['Angry','Happiness','Neutral','Sadness']\n",
    "#     return emotions_list[pred_index] #평균화된 값 중 최대인 값에 해당하는 감정을 return\n",
    "    return pred[0]"
   ]
  },
  {
   "cell_type": "code",
   "execution_count": 19,
   "id": "ee294bcb",
   "metadata": {},
   "outputs": [],
   "source": [
    "#모델을 함수 내에 정의해서 매번 함수 불러올 때마다 다시 모델 불러오던 문제를, 함수 밖으로 모델을 빼서 해결\n",
    "\n",
    "model_path = './model/model_05-0.8016.keras' \n",
    "model = keras.models.load_model(model_path)\n",
    "\n",
    "#여기서부터 마지막 줄까지는 확인용으로 데이터 불러오는 코드라 최종 완성본에서는 삭제해도 될 듯?\n",
    "import pandas as pd\n",
    "train_path = 'd:/Data2/train/'\n",
    "test_path = 'd:/Data2/test/'\n",
    "train_csv = pd.read_csv('./csv/train_csv_9.csv')\n",
    "test_csv = pd.read_csv('./csv/test_csv_9.csv')"
   ]
  },
  {
   "cell_type": "code",
   "execution_count": 20,
   "id": "e090d5e9",
   "metadata": {
    "scrolled": false
   },
   "outputs": [
    {
     "name": "stderr",
     "output_type": "stream",
     "text": [
      "C:\\Users\\smhrd\\anaconda3\\Lib\\site-packages\\huggingface_hub\\file_download.py:1132: FutureWarning: `resume_download` is deprecated and will be removed in version 1.0.0. Downloads always resume when possible. If you want to force a new download, use `force_download=True`.\n",
      "  warnings.warn(\n"
     ]
    },
    {
     "name": "stdout",
     "output_type": "stream",
     "text": [
      "\u001b[1m1/1\u001b[0m \u001b[32m━━━━━━━━━━━━━━━━━━━━\u001b[0m\u001b[37m\u001b[0m \u001b[1m0s\u001b[0m 111ms/step\n"
     ]
    },
    {
     "data": {
      "text/plain": [
       "array([9.9683928e-01, 2.9640029e-15, 4.1734547e-04, 2.7433778e-03],\n",
       "      dtype=float32)"
      ]
     },
     "execution_count": 20,
     "metadata": {},
     "output_type": "execute_result"
    }
   ],
   "source": [
    "modelResult(test_path+test_csv.iloc[3690]['path'],test_csv.iloc[3690]['발화문'])"
   ]
  },
  {
   "cell_type": "code",
   "execution_count": null,
   "id": "f982cbe1",
   "metadata": {},
   "outputs": [],
   "source": []
  }
 ],
 "metadata": {
  "kernelspec": {
   "display_name": "Python 3 (ipykernel)",
   "language": "python",
   "name": "python3"
  },
  "language_info": {
   "codemirror_mode": {
    "name": "ipython",
    "version": 3
   },
   "file_extension": ".py",
   "mimetype": "text/x-python",
   "name": "python",
   "nbconvert_exporter": "python",
   "pygments_lexer": "ipython3",
   "version": "3.11.5"
  }
 },
 "nbformat": 4,
 "nbformat_minor": 5
}
