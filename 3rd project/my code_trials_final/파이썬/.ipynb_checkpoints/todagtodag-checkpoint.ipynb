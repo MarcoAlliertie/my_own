{
 "cells": [
  {
   "cell_type": "code",
   "execution_count": 1,
   "metadata": {
    "colab": {
     "base_uri": "https://localhost:8080/"
    },
    "executionInfo": {
     "elapsed": 4509,
     "status": "ok",
     "timestamp": 1665471584222,
     "user": {
      "displayName": "한현구",
      "userId": "08987249905342132055"
     },
     "user_tz": -540
    },
    "id": "koSb78L68y6L",
    "outputId": "bdf0143a-dac1-42fa-dd99-bc1a21f3f85c"
   },
   "outputs": [
    {
     "ename": "ModuleNotFoundError",
     "evalue": "No module named 'google.colab'",
     "output_type": "error",
     "traceback": [
      "\u001b[1;31m---------------------------------------------------------------------------\u001b[0m",
      "\u001b[1;31mModuleNotFoundError\u001b[0m                       Traceback (most recent call last)",
      "Cell \u001b[1;32mIn[1], line 1\u001b[0m\n\u001b[1;32m----> 1\u001b[0m \u001b[38;5;28;01mfrom\u001b[39;00m \u001b[38;5;21;01mgoogle\u001b[39;00m\u001b[38;5;21;01m.\u001b[39;00m\u001b[38;5;21;01mcolab\u001b[39;00m \u001b[38;5;28;01mimport\u001b[39;00m drive\n\u001b[0;32m      2\u001b[0m drive\u001b[38;5;241m.\u001b[39mmount(\u001b[38;5;124m'\u001b[39m\u001b[38;5;124m/content/dirve\u001b[39m\u001b[38;5;124m'\u001b[39m)\n",
      "\u001b[1;31mModuleNotFoundError\u001b[0m: No module named 'google.colab'"
     ]
    }
   ],
   "source": [
    "from google.colab import drive\n",
    "drive.mount('/content/dirve')"
   ]
  },
  {
   "cell_type": "code",
   "execution_count": 2,
   "metadata": {
    "colab": {
     "base_uri": "https://localhost:8080/"
    },
    "executionInfo": {
     "elapsed": 2366,
     "status": "ok",
     "timestamp": 1665471586581,
     "user": {
      "displayName": "한현구",
      "userId": "08987249905342132055"
     },
     "user_tz": -540
    },
    "id": "hsCFLmIo8-9U",
    "outputId": "dc4c6e9a-f76f-4cc7-8666-3010ce1eb955"
   },
   "outputs": [
    {
     "name": "stdout",
     "output_type": "stream",
     "text": [
      "Looking in indexes: https://pypi.org/simple, https://us-python.pkg.dev/colab-wheels/public/simple/\n",
      "Requirement already satisfied: pydub in /usr/local/lib/python3.7/dist-packages (0.25.1)\n"
     ]
    }
   ],
   "source": [
    "pip install pydub"
   ]
  },
  {
   "cell_type": "code",
   "execution_count": 3,
   "metadata": {
    "colab": {
     "base_uri": "https://localhost:8080/"
    },
    "executionInfo": {
     "elapsed": 3766,
     "status": "ok",
     "timestamp": 1665471590341,
     "user": {
      "displayName": "한현구",
      "userId": "08987249905342132055"
     },
     "user_tz": -540
    },
    "id": "jU6iWwoJvINN",
    "outputId": "546929e5-11a9-465f-c883-d13b8e0af130"
   },
   "outputs": [
    {
     "name": "stdout",
     "output_type": "stream",
     "text": [
      "Looking in indexes: https://pypi.org/simple, https://us-python.pkg.dev/colab-wheels/public/simple/\n",
      "Requirement already satisfied: SpeechRecognition in /usr/local/lib/python3.7/dist-packages (3.8.1)\n"
     ]
    }
   ],
   "source": [
    "pip install SpeechRecognition"
   ]
  },
  {
   "cell_type": "code",
   "execution_count": 4,
   "metadata": {
    "colab": {
     "base_uri": "https://localhost:8080/"
    },
    "executionInfo": {
     "elapsed": 3812,
     "status": "ok",
     "timestamp": 1665471594146,
     "user": {
      "displayName": "한현구",
      "userId": "08987249905342132055"
     },
     "user_tz": -540
    },
    "id": "DLdqv0Ix0_i_",
    "outputId": "bfc75186-50f4-4295-b9d6-a76a79abfdb6"
   },
   "outputs": [
    {
     "name": "stdout",
     "output_type": "stream",
     "text": [
      "Looking in indexes: https://pypi.org/simple, https://us-python.pkg.dev/colab-wheels/public/simple/\n",
      "Requirement already satisfied: transformers in /usr/local/lib/python3.7/dist-packages (4.23.0)\n",
      "Requirement already satisfied: tqdm>=4.27 in /usr/local/lib/python3.7/dist-packages (from transformers) (4.64.1)\n",
      "Requirement already satisfied: regex!=2019.12.17 in /usr/local/lib/python3.7/dist-packages (from transformers) (2022.6.2)\n",
      "Requirement already satisfied: importlib-metadata in /usr/local/lib/python3.7/dist-packages (from transformers) (5.0.0)\n",
      "Requirement already satisfied: filelock in /usr/local/lib/python3.7/dist-packages (from transformers) (3.8.0)\n",
      "Requirement already satisfied: requests in /usr/local/lib/python3.7/dist-packages (from transformers) (2.23.0)\n",
      "Requirement already satisfied: tokenizers!=0.11.3,<0.14,>=0.11.1 in /usr/local/lib/python3.7/dist-packages (from transformers) (0.13.1)\n",
      "Requirement already satisfied: packaging>=20.0 in /usr/local/lib/python3.7/dist-packages (from transformers) (21.3)\n",
      "Requirement already satisfied: numpy>=1.17 in /usr/local/lib/python3.7/dist-packages (from transformers) (1.21.6)\n",
      "Requirement already satisfied: pyyaml>=5.1 in /usr/local/lib/python3.7/dist-packages (from transformers) (6.0)\n",
      "Requirement already satisfied: huggingface-hub<1.0,>=0.10.0 in /usr/local/lib/python3.7/dist-packages (from transformers) (0.10.0)\n",
      "Requirement already satisfied: typing-extensions>=3.7.4.3 in /usr/local/lib/python3.7/dist-packages (from huggingface-hub<1.0,>=0.10.0->transformers) (4.1.1)\n",
      "Requirement already satisfied: pyparsing!=3.0.5,>=2.0.2 in /usr/local/lib/python3.7/dist-packages (from packaging>=20.0->transformers) (3.0.9)\n",
      "Requirement already satisfied: zipp>=0.5 in /usr/local/lib/python3.7/dist-packages (from importlib-metadata->transformers) (3.8.1)\n",
      "Requirement already satisfied: idna<3,>=2.5 in /usr/local/lib/python3.7/dist-packages (from requests->transformers) (2.10)\n",
      "Requirement already satisfied: urllib3!=1.25.0,!=1.25.1,<1.26,>=1.21.1 in /usr/local/lib/python3.7/dist-packages (from requests->transformers) (1.24.3)\n",
      "Requirement already satisfied: chardet<4,>=3.0.2 in /usr/local/lib/python3.7/dist-packages (from requests->transformers) (3.0.4)\n",
      "Requirement already satisfied: certifi>=2017.4.17 in /usr/local/lib/python3.7/dist-packages (from requests->transformers) (2022.9.24)\n"
     ]
    }
   ],
   "source": [
    "pip install transformers"
   ]
  },
  {
   "cell_type": "code",
   "execution_count": 5,
   "metadata": {
    "colab": {
     "base_uri": "https://localhost:8080/"
    },
    "executionInfo": {
     "elapsed": 2171,
     "status": "ok",
     "timestamp": 1665471596310,
     "user": {
      "displayName": "한현구",
      "userId": "08987249905342132055"
     },
     "user_tz": -540
    },
    "id": "RIceSPwK37cS",
    "outputId": "c762cc23-49ab-4bff-ec8f-3452606d3ffe"
   },
   "outputs": [
    {
     "name": "stdout",
     "output_type": "stream",
     "text": [
      "Looking in indexes: https://pypi.org/simple, https://us-python.pkg.dev/colab-wheels/public/simple/\n",
      "Requirement already satisfied: gTTS in /usr/local/lib/python3.7/dist-packages (2.2.4)\n",
      "Requirement already satisfied: requests in /usr/local/lib/python3.7/dist-packages (from gTTS) (2.23.0)\n",
      "Requirement already satisfied: click in /usr/local/lib/python3.7/dist-packages (from gTTS) (7.1.2)\n",
      "Requirement already satisfied: six in /usr/local/lib/python3.7/dist-packages (from gTTS) (1.15.0)\n",
      "Requirement already satisfied: certifi>=2017.4.17 in /usr/local/lib/python3.7/dist-packages (from requests->gTTS) (2022.9.24)\n",
      "Requirement already satisfied: idna<3,>=2.5 in /usr/local/lib/python3.7/dist-packages (from requests->gTTS) (2.10)\n",
      "Requirement already satisfied: chardet<4,>=3.0.2 in /usr/local/lib/python3.7/dist-packages (from requests->gTTS) (3.0.4)\n",
      "Requirement already satisfied: urllib3!=1.25.0,!=1.25.1,<1.26,>=1.21.1 in /usr/local/lib/python3.7/dist-packages (from requests->gTTS) (1.24.3)\n"
     ]
    }
   ],
   "source": [
    "pip install gTTS"
   ]
  },
  {
   "cell_type": "code",
   "execution_count": 6,
   "metadata": {
    "colab": {
     "base_uri": "https://localhost:8080/",
     "height": 105,
     "referenced_widgets": [
      "77f8104c74cb4bfdadac87f433589a8e",
      "a6c5fa4559a74148af8a817f71b7eb78",
      "c1c83d1d53fd46668f579e356a853a6e",
      "4c0ba7281d7c4d8ba1d9299f023c4daf",
      "98dc060e719f495b8b3492cd75655189",
      "c559760ced4548ec893503033fd0ce01",
      "51634bfe3b0440f8b43101121808804b",
      "1928c83496774318b0adf41f3542ea56",
      "0631bd7dddab48de8cc9168c2a642735",
      "f9f0b29bb8884ec1893dfb04b70b8344",
      "f16552756a9a4d9f9b80f655ee7c0ce7"
     ]
    },
    "executionInfo": {
     "elapsed": 6031,
     "status": "ok",
     "timestamp": 1665471602339,
     "user": {
      "displayName": "한현구",
      "userId": "08987249905342132055"
     },
     "user_tz": -540
    },
    "id": "SoGJveJJ9F6L",
    "outputId": "703aa6fe-8089-41bb-a35c-dd9716231392"
   },
   "outputs": [
    {
     "name": "stderr",
     "output_type": "stream",
     "text": [
      "The cache for model files in Transformers v4.22.0 has been updated. Migrating your old cache. This is a one-time only operation. You can interrupt this and resume the migration later on by calling `transformers.utils.move_cache()`.\n"
     ]
    },
    {
     "name": "stdout",
     "output_type": "stream",
     "text": [
      "Moving 0 files to the new cache system\n"
     ]
    },
    {
     "data": {
      "application/vnd.jupyter.widget-view+json": {
       "model_id": "77f8104c74cb4bfdadac87f433589a8e",
       "version_major": 2,
       "version_minor": 0
      },
      "text/plain": [
       "0it [00:00, ?it/s]"
      ]
     },
     "metadata": {},
     "output_type": "display_data"
    }
   ],
   "source": [
    "#Voice Library\n",
    "import numpy as np\n",
    "import librosa\n",
    "import random\n",
    "import tensorflow as tf\n",
    "import os\n",
    "import warnings\n",
    "warnings.filterwarnings('ignore')\n",
    "from pydub import AudioSegment\n",
    "from time import sleep\n",
    "import speech_recognition as sr\n",
    "\n",
    "\n",
    "def seed_everything(seed):\n",
    "    random.seed(seed)\n",
    "    os.environ['PYTHONHASHSEED'] = str(seed)\n",
    "    np.random.seed(seed)\n",
    "    tf.random.set_seed(seed)\n",
    "\n",
    "seed_everything(927)\n",
    "\n",
    "from tensorflow.keras.models import load_model\n",
    "\n",
    "\n",
    "# NLP Library\n",
    "import tensorflow as tf\n",
    "from transformers import AutoTokenizer\n",
    "from transformers import TFGPT2LMHeadModel\n",
    "from gtts import gTTS\n",
    "from IPython.display import Audio "
   ]
  },
  {
   "cell_type": "markdown",
   "metadata": {
    "id": "h9lFpF9U73eF"
   },
   "source": [
    "# 모델 호출"
   ]
  },
  {
   "cell_type": "code",
   "execution_count": 7,
   "metadata": {
    "executionInfo": {
     "elapsed": 7,
     "status": "ok",
     "timestamp": 1665471602340,
     "user": {
      "displayName": "한현구",
      "userId": "08987249905342132055"
     },
     "user_tz": -540
    },
    "id": "MCAHYsaY727W"
   },
   "outputs": [],
   "source": [
    "CP2_PATH = '/content/dirve/MyDrive/CP2/'"
   ]
  },
  {
   "cell_type": "code",
   "execution_count": 8,
   "metadata": {
    "executionInfo": {
     "elapsed": 2615,
     "status": "ok",
     "timestamp": 1665471604949,
     "user": {
      "displayName": "한현구",
      "userId": "08987249905342132055"
     },
     "user_tz": -540
    },
    "id": "pZhScJ6l8BXA"
   },
   "outputs": [],
   "source": [
    "mels_model = load_model(CP2_PATH+'Model/Voice/melspectrogram_model.h5')\n",
    "mfcc_model = load_model(CP2_PATH+'Model/Voice/mfcc_model.h5')"
   ]
  },
  {
   "cell_type": "code",
   "execution_count": 9,
   "metadata": {
    "colab": {
     "base_uri": "https://localhost:8080/"
    },
    "executionInfo": {
     "elapsed": 8875,
     "status": "ok",
     "timestamp": 1665471613817,
     "user": {
      "displayName": "한현구",
      "userId": "08987249905342132055"
     },
     "user_tz": -540
    },
    "id": "f1nGExEf7-SH",
    "outputId": "95f2437a-4dd9-4e43-a5f4-55ce7b23fe99"
   },
   "outputs": [
    {
     "name": "stderr",
     "output_type": "stream",
     "text": [
      "All model checkpoint layers were used when initializing TFGPT2LMHeadModel.\n",
      "\n",
      "All the layers of TFGPT2LMHeadModel were initialized from the model checkpoint at /content/dirve/MyDrive/CP2/Model/Chat Bot/KoGPT-2_happy_model.h5.\n",
      "If your task is similar to the task the model of the checkpoint was trained on, you can already use TFGPT2LMHeadModel for predictions without further training.\n",
      "All model checkpoint layers were used when initializing TFGPT2LMHeadModel.\n",
      "\n",
      "All the layers of TFGPT2LMHeadModel were initialized from the model checkpoint at /content/dirve/MyDrive/CP2/Model/Chat Bot/KoGPT-2_sad_model.h5.\n",
      "If your task is similar to the task the model of the checkpoint was trained on, you can already use TFGPT2LMHeadModel for predictions without further training.\n",
      "All model checkpoint layers were used when initializing TFGPT2LMHeadModel.\n",
      "\n",
      "All the layers of TFGPT2LMHeadModel were initialized from the model checkpoint at /content/dirve/MyDrive/CP2/Model/Chat Bot/KoGPT-2_angry_model.h5.\n",
      "If your task is similar to the task the model of the checkpoint was trained on, you can already use TFGPT2LMHeadModel for predictions without further training.\n",
      "All model checkpoint layers were used when initializing TFGPT2LMHeadModel.\n",
      "\n",
      "All the layers of TFGPT2LMHeadModel were initialized from the model checkpoint at /content/dirve/MyDrive/CP2/Model/Chat Bot/KoGPT-2_embarassment_model.h5.\n",
      "If your task is similar to the task the model of the checkpoint was trained on, you can already use TFGPT2LMHeadModel for predictions without further training.\n",
      "All model checkpoint layers were used when initializing TFGPT2LMHeadModel.\n",
      "\n",
      "All the layers of TFGPT2LMHeadModel were initialized from the model checkpoint at /content/dirve/MyDrive/CP2/Model/Chat Bot/KoGPT-2_neutrality_model.h5.\n",
      "If your task is similar to the task the model of the checkpoint was trained on, you can already use TFGPT2LMHeadModel for predictions without further training.\n"
     ]
    }
   ],
   "source": [
    "ha_model = TFGPT2LMHeadModel.from_pretrained(CP2_PATH+'Model/Chat Bot/KoGPT-2_happy_model.h5')\n",
    "sa_model = TFGPT2LMHeadModel.from_pretrained(CP2_PATH+'Model/Chat Bot/KoGPT-2_sad_model.h5')\n",
    "an_model = TFGPT2LMHeadModel.from_pretrained(CP2_PATH+'Model/Chat Bot/KoGPT-2_angry_model.h5')\n",
    "em_model = TFGPT2LMHeadModel.from_pretrained(CP2_PATH+'Model/Chat Bot/KoGPT-2_embarassment_model.h5')\n",
    "ne_model = TFGPT2LMHeadModel.from_pretrained(CP2_PATH+'Model/Chat Bot/KoGPT-2_neutrality_model.h5')"
   ]
  },
  {
   "cell_type": "code",
   "execution_count": 10,
   "metadata": {
    "colab": {
     "base_uri": "https://localhost:8080/"
    },
    "executionInfo": {
     "elapsed": 5934,
     "status": "ok",
     "timestamp": 1665471619745,
     "user": {
      "displayName": "한현구",
      "userId": "08987249905342132055"
     },
     "user_tz": -540
    },
    "id": "HbYQN630-dlC",
    "outputId": "77d4e07c-3451-4a47-dd98-ba429e8db243"
   },
   "outputs": [
    {
     "name": "stderr",
     "output_type": "stream",
     "text": [
      "Special tokens have been added in the vocabulary, make sure the associated word embeddings are fine-tuned or trained.\n"
     ]
    }
   ],
   "source": [
    "# 사전학습 토크나이저 호출\n",
    "tokenizer = AutoTokenizer.from_pretrained('skt/kogpt2-base-v2', bos_token='</s>', eos_token='</s>', pad_token='<pad>')"
   ]
  },
  {
   "cell_type": "markdown",
   "metadata": {
    "id": "odNlsdB9T8o3"
   },
   "source": [
    "# Voice Part"
   ]
  },
  {
   "cell_type": "code",
   "execution_count": 11,
   "metadata": {
    "executionInfo": {
     "elapsed": 837,
     "status": "ok",
     "timestamp": 1665471625987,
     "user": {
      "displayName": "한현구",
      "userId": "08987249905342132055"
     },
     "user_tz": -540
    },
    "id": "8VzZ1bzFc_fG"
   },
   "outputs": [],
   "source": [
    "class Classification:\n",
    "    CP2_PATH = '/content/dirve/MyDrive/CP2/'\n",
    "    \n",
    "    size = 120\n",
    "    pad_size = 450\n",
    "    sr = 16000\n",
    "    \n",
    "    def __init__(self, mels_model, mfcc_model):\n",
    "        self.mels_model = mels_model\n",
    "        self.mfcc_model = mfcc_model\n",
    "    \n",
    "\n",
    "\n",
    "    # 오디오 파일 형식 변환\n",
    "    def transform_audio(self, AUDIO_PATH):\n",
    "        if AUDIO_PATH[-3:] == 'wav':\n",
    "            return AUDIO_PATH\n",
    "        else:\n",
    "            sound = AudioSegment.from_file(AUDIO_PATH)\n",
    "            audio_name = AUDIO_PATH[AUDIO_PATH.rfind('/')+1:][:-3]\n",
    "            NEW_AUDIO_PATH = self.CP2_PATH+'Person_voice/'+audio_name+'wav'\n",
    "            sound.export(NEW_AUDIO_PATH, format='wav')\n",
    "            return NEW_AUDIO_PATH\n",
    "\n",
    "\n",
    "    # 오디오 불러오기\n",
    "    def load_audio(self, AUDIO_PATH):\n",
    "        self.AUDIO_PATH = AUDIO_PATH\n",
    "        audio, _ = librosa.load(AUDIO_PATH, sr=self.sr)\n",
    "        audio_array = np.array(audio)\n",
    "\n",
    "        return audio\n",
    "\n",
    "    # 패딩\n",
    "    def random_pad(self, mels, pad_size, mfcc=True):\n",
    "        pad_width = self.pad_size - mels.shape[1]\n",
    "        rand = np.random.rand()\n",
    "        left = int(pad_width * rand)\n",
    "        right = pad_width - left\n",
    "\n",
    "        if mfcc:\n",
    "            mels = np.pad(mels, pad_width=((0,0), (left,right)), mode='constant')\n",
    "            local_max, local_min = mels.max(), mels.min()\n",
    "            mels = (mels - local_min)/(local_max - local_min)\n",
    "        else:\n",
    "            local_max, local_min = mels.max(), mels.min()\n",
    "            mels = (mels - local_min)/(local_max - local_min)\n",
    "            mels = np.pad(mels, pad_width=((0,0), (left,right)), mode='constant')\n",
    "\n",
    "        return mels\n",
    "\n",
    "    \n",
    "    # melspectrogram, mfcc array\n",
    "    def mels_mfcc_array(self, audio):\n",
    "        self.audio = audio\n",
    "        audio_mels = []\n",
    "        audio_mfcc = []\n",
    "\n",
    "        mels = librosa.feature.melspectrogram(self.audio, sr=self.sr, n_mels=self.size)\n",
    "        mels = librosa.power_to_db(mels, ref=np.max)\n",
    "\n",
    "        mfcc = librosa.feature.mfcc(self.audio, sr=self.sr, n_mfcc=self.size)\n",
    "\n",
    "        audio_mels.append(Classification.random_pad(self, mels, pad_size=self.pad_size, mfcc=False))\n",
    "        audio_mfcc.append(Classification.random_pad(self, mfcc, pad_size=self.pad_size, mfcc=True))\n",
    "\n",
    "        audio_mels_array = np.array(audio_mels, np.float64)\n",
    "        audio_mfcc_array = np.array(audio_mfcc, np.float64)\n",
    "\n",
    "        audio_mels_array = np.expand_dims(audio_mels_array, -1)\n",
    "        audio_mfcc_array = np.expand_dims(audio_mfcc_array, -1)\n",
    "\n",
    "        print(\"audio mels shape: \", audio_mels_array.shape)\n",
    "        print(\"audio mfcc shape: \", audio_mfcc_array.shape)\n",
    "\n",
    "\n",
    "        return audio_mels_array, audio_mfcc_array\n",
    "\n",
    "\n",
    "    # 예측\n",
    "    def predict(self, mels_audio_array, mfcc_audio_array):\n",
    "        preds_val_list = []\n",
    "        \n",
    "        mels_pred = self.mels_model.predict(mels_audio_array)\n",
    "        preds_val_list.append(mels_pred)\n",
    "\n",
    "        mfcc_pred = self.mfcc_model.predict(mfcc_audio_array)\n",
    "        preds_val_list.append(mfcc_pred)\n",
    "\n",
    "        pred_result = preds_val_list[0].copy()\n",
    "        for i in range(1, len(preds_val_list)):\n",
    "            pred_result += preds_val_list[i]\n",
    "        pred_label = np.argmax(pred_result, axis=1)\n",
    "        print(pred_result)\n",
    "        \n",
    "        return pred_label\n",
    "\n"
   ]
  },
  {
   "cell_type": "code",
   "execution_count": 12,
   "metadata": {
    "executionInfo": {
     "elapsed": 2,
     "status": "ok",
     "timestamp": 1665471627219,
     "user": {
      "displayName": "한현구",
      "userId": "08987249905342132055"
     },
     "user_tz": -540
    },
    "id": "mcpYP115YfL_"
   },
   "outputs": [],
   "source": [
    "def emotion_predict(AUDIO_PATH):\n",
    "    emotion = Classification(mels_model, mfcc_model)\n",
    "    audio_path = emotion.transform_audio(AUDIO_PATH)\n",
    "    print('파일 형식 변환 중....')\n",
    "    sleep(7)\n",
    "    print('파일 형식 변환 완료...!')\n",
    "    emotion_audio = emotion.load_audio(audio_path)\n",
    "    emotion_mels_audio, emotion_mfcc_audio = emotion.mels_mfcc_array(emotion_audio)\n",
    "    emotion_pred = emotion.predict(emotion_mels_audio, emotion_mfcc_audio)[0]\n",
    "\n",
    "    if emotion_pred == 0:\n",
    "        emo = '기쁨'\n",
    "    elif emotion_pred == 1:\n",
    "        emo = '슬픔'\n",
    "    elif emotion_pred == 2:\n",
    "        emo = '분노'\n",
    "    elif emotion_pred == 3:\n",
    "        emo = '당황'\n",
    "    elif emotion_pred == 4:\n",
    "        emo = '중립'\n",
    "    \n",
    "    print()\n",
    "    print('------------------------------------------------')\n",
    "    print(\"감정: \", emo)\n",
    "    print('------------------------------------------------')\n",
    "    print()\n",
    "    return emo, audio_path\n"
   ]
  },
  {
   "cell_type": "code",
   "execution_count": 13,
   "metadata": {
    "executionInfo": {
     "elapsed": 930,
     "status": "ok",
     "timestamp": 1665471633070,
     "user": {
      "displayName": "한현구",
      "userId": "08987249905342132055"
     },
     "user_tz": -540
    },
    "id": "6HtwFPkjRvUy"
   },
   "outputs": [],
   "source": [
    "def return_answer_by_chatbot(user_text, emo_model):\n",
    "  sent = '<usr>' + user_text + '<sys>'\n",
    "  input_ids = [tokenizer.bos_token_id] + tokenizer.encode(sent)\n",
    "  input_ids = tf.convert_to_tensor([input_ids])\n",
    "  output = emo_model.generate(input_ids, max_length=50, do_sample=True, top_k=20)\n",
    "  sentence = tokenizer.decode(output[0].numpy().tolist())\n",
    "  chatbot_response = sentence.split('<sys> ')[1].replace('</s>', '')\n",
    "  print(\"시스템 응답: \",chatbot_response, '\\n')\n",
    "  return chatbot_response"
   ]
  },
  {
   "cell_type": "code",
   "execution_count": 22,
   "metadata": {
    "executionInfo": {
     "elapsed": 620,
     "status": "ok",
     "timestamp": 1665472260055,
     "user": {
      "displayName": "한현구",
      "userId": "08987249905342132055"
     },
     "user_tz": -540
    },
    "id": "P7DZOnvJQ4-t"
   },
   "outputs": [],
   "source": [
    "def todagtodag(person_audio):\n",
    "    # 음성 감정 분석\n",
    "    emotion, audio_path = emotion_predict(person_audio)\n",
    "\n",
    "    # 음성을 텍스트로 변환\n",
    "    r = sr.Recognizer()\n",
    "\n",
    "    with sr.AudioFile(audio_path) as source:\n",
    "        audio = r.record(source)\n",
    "    try:\n",
    "        stt = r.recognize_google(audio_data=audio, language='ko-KR')\n",
    "        print(\"사용자: \",stt)\n",
    "    except sr.UnknownValueError:\n",
    "        print(\"다시 녹음해주세요!\")\n",
    "        record()\n",
    "    except sr.ValueError:\n",
    "        print(\"다시 녹음해주세요!\")\n",
    "        record()\n",
    "        \n",
    "\n",
    "\n",
    "    # Cht Bot\n",
    "    if emotion == '기쁨':\n",
    "        chat = return_answer_by_chatbot(stt, ha_model)\n",
    "    elif emotion == '슬픔':\n",
    "        chat = return_answer_by_chatbot(stt, sa_model)\n",
    "    elif emotion == '분노':\n",
    "        chat = return_answer_by_chatbot(stt, an_model)\n",
    "    elif emotion == '당황':\n",
    "        chat = return_answer_by_chatbot(stt, em_model)\n",
    "    elif emotion == '중립':\n",
    "        chat = return_answer_by_chatbot(stt, ne_model)\n",
    "\n",
    "\n",
    "    # 텍스트를 음성으로 변환\n",
    "    an = audio_path[audio_path.rfind('/')+1:][:-4]\n",
    "    system_answer = gTTS(chat, lang='ko')\n",
    "    system_answer.save(CP2_PATH+f'System_ans/{an}_chatbot.wav')\n",
    "\n",
    "    print(\"시스템 답변 생성중... \\n\")\n",
    "    sleep(20)\n",
    "    print(\"시스템 답변 생성 완료!\")\n",
    "    display(Audio(CP2_PATH+f'System_ans/{an}_chatbot.wav', autoplay=True))    "
   ]
  },
  {
   "cell_type": "code",
   "execution_count": 20,
   "metadata": {
    "executionInfo": {
     "elapsed": 596,
     "status": "ok",
     "timestamp": 1665472159804,
     "user": {
      "displayName": "한현구",
      "userId": "08987249905342132055"
     },
     "user_tz": -540
    },
    "id": "B7QCYKghSVKA"
   },
   "outputs": [],
   "source": [
    "import tempfile\n",
    "from io import BytesIO\n",
    "from base64 import b64decode\n",
    "from google.colab import output\n",
    "from IPython.display import Javascript\n",
    "import io\n",
    "from scipy.io.wavfile import read, write\n",
    "\n",
    "RECORD = \"\"\"\n",
    "const sleep  = time => new Promise(resolve => setTimeout(resolve, time))\n",
    "const b2text = blob => new Promise(resolve => {\n",
    "  const reader = new FileReader()\n",
    "  reader.onloadend = e => resolve(e.srcElement.result)\n",
    "  reader.readAsDataURL(blob)\n",
    "})\n",
    "var record = time => new Promise(async resolve => {\n",
    "  stream = await navigator.mediaDevices.getUserMedia({ audio: true })\n",
    "  recorder = new MediaRecorder(stream)\n",
    "  chunks = []\n",
    "  recorder.ondataavailable = e => chunks.push(e.data)\n",
    "  recorder.start()\n",
    "  await sleep(time)\n",
    "  recorder.onstop = async ()=>{\n",
    "    blob = new Blob(chunks)\n",
    "    text = await b2text(blob)\n",
    "    resolve(text)\n",
    "  }\n",
    "  recorder.stop()\n",
    "})\n",
    "\"\"\"\n",
    "\n",
    "def record(sec=5):\n",
    "    print(\"Speak Now...\")\n",
    "    display(Javascript(RECORD))\n",
    "    sec += 1\n",
    "    s = output.eval_js('record(%d)' % (sec*1000))\n",
    "    print(\"Done Recording !\")\n",
    "    b = b64decode(s.split(',')[1])\n",
    "\n",
    "    tmp_path = tempfile.mkdtemp()\n",
    "    with open(tmp_path+'/person_audio.m4a', mode = 'bx') as f:\n",
    "            f.write(b)\n",
    "\n",
    "    todagtodag(tmp_path+'/person_audio.m4a')\n",
    "\n",
    "    #os.rmdir(tmp_path)\n",
    "\n",
    "    "
   ]
  },
  {
   "cell_type": "code",
   "execution_count": 18,
   "metadata": {
    "colab": {
     "base_uri": "https://localhost:8080/",
     "height": 397
    },
    "executionInfo": {
     "elapsed": 54376,
     "status": "ok",
     "timestamp": 1665471955144,
     "user": {
      "displayName": "한현구",
      "userId": "08987249905342132055"
     },
     "user_tz": -540
    },
    "id": "hlg9Jffnhk-J",
    "outputId": "d536c468-4b8e-438d-9114-a414e01e160a"
   },
   "outputs": [
    {
     "name": "stdout",
     "output_type": "stream",
     "text": [
      "Speak Now...\n"
     ]
    },
    {
     "data": {
      "application/javascript": [
       "\n",
       "const sleep  = time => new Promise(resolve => setTimeout(resolve, time))\n",
       "const b2text = blob => new Promise(resolve => {\n",
       "  const reader = new FileReader()\n",
       "  reader.onloadend = e => resolve(e.srcElement.result)\n",
       "  reader.readAsDataURL(blob)\n",
       "})\n",
       "var record = time => new Promise(async resolve => {\n",
       "  stream = await navigator.mediaDevices.getUserMedia({ audio: true })\n",
       "  recorder = new MediaRecorder(stream)\n",
       "  chunks = []\n",
       "  recorder.ondataavailable = e => chunks.push(e.data)\n",
       "  recorder.start()\n",
       "  await sleep(time)\n",
       "  recorder.onstop = async ()=>{\n",
       "    blob = new Blob(chunks)\n",
       "    text = await b2text(blob)\n",
       "    resolve(text)\n",
       "  }\n",
       "  recorder.stop()\n",
       "})\n"
      ],
      "text/plain": [
       "<IPython.core.display.Javascript object>"
      ]
     },
     "metadata": {},
     "output_type": "display_data"
    },
    {
     "name": "stdout",
     "output_type": "stream",
     "text": [
      "Done Recording !\n",
      "파일 형식 변환 중....\n",
      "파일 형식 변환 완료...!\n",
      "audio mels shape:  (1, 120, 450, 1)\n",
      "audio mfcc shape:  (1, 120, 450, 1)\n",
      "[[0.00352698 0.21632874 0.16255613 0.01898465 1.5986035 ]]\n",
      "\n",
      "------------------------------------------------\n",
      "감정:  중립\n",
      "------------------------------------------------\n",
      "\n",
      "사용자:  나는 지금 기분이 너무너무 좋지가 않아\n",
      "시스템 응답:  지금 기분이 조금은 이해 되네요 \n",
      "\n",
      "시스템 답변 생성중... \n",
      "\n",
      "시스템 답변 생성 완료!\n"
     ]
    },
    {
     "data": {
      "text/html": [
       "\n",
       "                <audio  controls=\"controls\" autoplay=\"autoplay\">\n",
       "                    <source src=\"data:audio/x-wav;base64,//NExAAPoxn4AUIQAAAAJOc5zkJ//5CN+c7////kJ//+hCEIT/yE//////nPnchCEIQjf+QhCE8jeQhBZznDgYGBgYAAAAAAAAAIZYda2ZpLYODxw8HDRCn3fZs6VJKL//NExBQW8i40AZwoAVYd6V9uuRgGFxqkF05uPFCN+5EVZ0H/uZiMzkJt/5lqQ7iyM//Rr0IrUSd8v/8jJHs2uF0JBDDzfi8kv/+f8auQi7kEfHdUNUUMs9m///P///////NExAsUKyqsAYU4AP/7f/9pg/N/+N3sYWcbjg+MjcoOGjv/6EKMp55Y9yBxpYuNxFG4jjgLDxZ//555hjOZcxj0bHREGQfjgPhHFoliWJAOyTIl////////////9PZT//NExA0UywrIAcEoAdnar2ZVKY0iGKhSD3UziZShwsSGOOHnUXRiB8hyDWj5ymFBZAKcSlcTcTF3FhcUUzOcgdSMFlOwxmERJBC53YYVkIMIMP3VGf///Ly/+fKf8Vfm//NExAwVIr7IAAhQueX///+XvmZa5IgcbL915DoRMTB5FDyEEEtxZhCkkY+KjWNlaYQh4qTLsqniMYIqOFyEqLKMsaLjmmGkhYeqaD0zBMiiFbeYPwWUBxYOMJuR0b////NExAoSSmLIAChGudf/f/88HlCQy/+ftsS5HFZlUj3KH3AfYUpuFRvRoG6dPL2CqUYzE4oFROn52AxL2nyudF1KC5Pabjc3/yNP/irfCoEMtAMMl90+njiK16K5e+lI//NExBMUMV68AMJGlOsX6h73crNT31XsV1IKGZEDGROj+cod5BAwYjLTcuwmo9ptwMbPBqVY1Z5Y0xcWGPPMb1w0RnUu2+1T4Ueis1kdQ1SQN3ISqO8QjSKzTTvmBrlL//NExBUSMVa4AMtSlDrTrUzWmhWlUTaAng3GRMCmIAcgIuUPborcgQk0im1ZE1Nszi9XJCqjKEy4bNLtRd///6KtVl54TFCFZb17KxaGTO/Gb3J943vOLZtbNXuq1zrP//NExB8RaUqsAMPelcQtwrSKpjRrKVBtjiMs8IzDNhifPo1fj1e4vrFsbrWLVtcYT5mrNadrpVtCMFORIUvzDSVzAoHaiJUAqPzZbSlPbj1rUUgoxf96Y+5xw1cSnVg5//NExCwRGN6MAMpYcABQ9xUuWhsqmxq45IiPLen5eEP//////SqzKhgpeDCyYVoHzSw6Y8KDhPaorN7KMJtyXJ3LHt1M6iVEB5oRgXRcjRpmxWyK0SAUElE0EI8uoPl2//NExDoSAN6gAMJScLQIGAQOe0ka//+j///opNtEB+NaCRSEeblCmJxJKe3MW6sh/1Vr+sq9qavsnJPqyI/wjoXyScFeM6M1pycEGTg9ECJ1bJjLQ//njX+uGmb2Et8p//NExEUR0VawAMsWlRysKvxlQ+3g/YiJjT69EjVtXNyjljMQILYLI0VOQWZBiCdMgEkPIfg7cBVGYvuAmWcDM8Y+Tn/fVqfJzTApoqOvd///2Kqxafw9QqSv8mYPKoQi//NExFAQoVaoANLalBmUJL/vRrHsA+d5O57hgQNGw41RUlZtXeCTLX77eY03qzeUSxbAmKnQSS8oS/TVqHZUiiCVcoXomndLVHtybEkyBC0KaTBbUHBjXlOeMbJnBKns//NExGARQVqkANPOlKVaohK4iY64TkFiTr3UFahnTG2Y0VuxmmSMxEgHnJIAyr8s8GhU6up9VHCqlmPYRf9nJn5KREEbYUNGMqXZH2iBSOWD8S3OwOV08CWOoA+FVanT//NExG4QkOqQANvScJHNyv1aKpuXEZ2AsPYjgjQl8ZqZNXCz367AB9///0288xhA0fwckQgwIWqYjBhg4+8t0jaCwdgpNIZNtt5txoZOzJhDAc8QPMxzQ8ew8VTQxdwi//NExH4SaO6MANvYcHlcai0vOcs4ejjrvYAKfkv//1J/kXQZ3GKIq2CUgNRH3CXIZkcPu6QENA1Vi7Qad5W+xW263GFyzdpGKpTz/4gby+1ZIbhQFVhSD0shfAjKynC4//NExIcRqOqQANvYcLlKnrCCSBCnSkGQ8eT7MU//qLh0S1UmAgXOPtH0olAwOBQoCjJpg3JmEJ34bCtroMK1RXHLRIXtSYGtV5G/i0ldYkZfhy8BtxOg5nyOmkUsVVoi//NExJMVOOqAAN4ecG1PTvRUo+lv8lqn0t0//9EfHrUriZzAzWqLswIXg70mYcAiwIQlyGCEqWTrpKDyW0QtP0koZp1TBhWtBjXkff5i+iaOwE5RCgICG33frcyi9JK6//NExJEVmh6AANvEmOuuT/5oarxY85SaTrUCM/GO+iEAExZwSpK5aMmk1tarvRGkl3cqtLerWscccClaZ7Kb9DaAxLHlz2IgMs7yL9WsFTp5Hpeju8Oo1PVDQKywd//6//NExI0RINaEANvEcKowaJiWbT5CcDmFc4pS8U3YuksX5eMLZkY1KNlK09jBji2MGNUvW5uZn1k8nHS8blwdxLG6m84bEmozUweB6DhHwYQ6Xt/03QN2L7s44R6KMyTW//NExJsSEM5kAVoQAGRTKv/0EHTTLh6aIJl8wHw4SI9TcwlAejFz//0zcwRnsvm7lxk8unTpXOF5ZacLhfBKGKL//////2130WfIjfQoiIBwJ1swxRqB5hRRc4oRDRZU//NExKUg4yKcAYloATVPupTizES+jLts9UVRVUAiFQwaOj2BShaBZmq17hZdCjIxkev+//8vm8jJWgCePrMczBDBOHpoRCKcfFsNQXLFw5FgWjTHONUcUfUczFxLVFcz//NExHQQgg64AcEoABslX1qu2nrMW9HDUIKBUQrATwKlkcLp6WnDcj6qr0gNmGGWa/zcVL7riV9YfgBDBebk/S5ACY3TEDtG/fPlz5zN1NYEzFy5b60uir7ztOtp8UeN//NExIUToh60AAhQmGD3JYe1EVFB8Pnvutu09u5DEqq1MjtNDW0BFgcWgcdQpQWWR0v29YeZw9/gfu/mNvF/5vJfTesXYEFcfC1PqdQ/0lusGFrvYnIC5olntTD2DWpD//NExIkSIVqsAMBMlA+OhOBizApBU9//+9QGDRMDJZ1ziWL/rskKsSsQRyYHDgJdSiXBhAiA2m9v/S/ufuzbpXUuvD14Ea+69qtAM1hP8YS1KJtOUFOF0WjcKIld9YqS//NExJMWYU6kANPYlOUi2aGlukFYRNMymyOf///9das0BxUe1kGIKLAplHDMGEqJJBFSQCtFK3ZthpEuhZIQqZEQmKqZaOXSsAMA5WOIAKAcmNNaXWutlb1r9uW6bW3X//NExIwSmU6kANPSlHrdLUeSgo6ZU1GAw2GyMXABwANxKG6NwHANnSXzriIBqTonTWj1mL4co0bDNu1DFUsNi4xswowoZEyXOh08MDqnAUFQ0T5l9yP/////+OVwlkrM//NExJQSMTaMAMpYcQMg3CQ7gUKaSvC2CzXHtzGNd/4fhthoIYxn44krVY/B637mn0gqKx4MZcqpokgRI7I2qNsmeaqr2+PlnxT3gRnm3mYFFu4eeCJ4xPlRemaOad0J//NExJ4RoMpoANsGcOFvNMv4VU71/LR/P8DcwAbr+buZGEGSi/he9eEnyIiXd2A0jn1LFmW1n7CEs5s1b9mBmignxHzIwFEmUFlnMgmGG0MRYhihA/nYiSvZIyXs3ujG//NExKof4taEAMPGubX4Y5UG2LSptBIMkWoJh08Y1B06ZAYHLgVxHtVq6qCzgknolrjpZAEHH4WU+00SApYk0lW4jQRpsvgO7nncxOOHTvGYgIvUD400St6QLDNg9aYD//NExH0YgOKUANvQcOh/MxhgPg5KiuGQ4Md8azuHr5j49t7E7sBgsdC1U/1bfTKvQvQt///8k9PsJwHJKuS5CSfgUx2GjKGmJy1ro8rlI5HftBH2DVstIvWoFalMdT2E//NExG4SiVacAMvOlGk5IXoSEDbciN8SDJCokUGUm5ZO8///z3X//jsKXDgE///+MLW+4IykM33MGAf4z4FYBiaYwcXgBDj7zBHar9tyvfWZ9Qj+aa1x8m09J5SWHA2v//NExHYR6UKkANMScJ7IgsFgEfzk9FNXrcJTxH///8J/0H9iAjCTucxaMtMKcwUD12smChEM9Ux+eoz5qEiWMomftRPGTLbru35XcSQQa7/jPGYxPQk4QD1HAwmTYGDj//NExIEQuO6YANPMcD///97/2VXlxbJ216RAbxEB6EGzvv2YYUpN1NSjlCySLqUUiJKoWeM+QH+aesTeLU1RPquM2KO0ja54lpfSrvGtrNmxkiIpCBoUGolkDBWD8eEc//NExJERKOaMANvMcB+LgPGovHiIlk/p/+////tMOKzE5/+5xA+8W1bIdC0VLjxRoHKKylKThqdwpZIhQVNGArzxGCHjJqs1DuEQi6wtbUhux7NURtT5/Io3OoGBnH8V//NExJ8cWl6QANvOuN517BwXOIVidGqxjAq2UOBaisdiRmD2UpmI0qdKWv//////VyYFl02rcJ/9ckk+0KjHFFWlrMZJPsA30jB7jFIYMCMRYv8keDw3wbNS+L9D9eSY//NExIAYKhaYANtamLx3APVQ+j015wk9JHE54Z00C16AtGccIy1RatWW///6penvXKf+ShPKqzI1Gpg0RLBguDLIZBKlltarKMKwf4N+VfMfHdeT4jjegID0QyNVrGC6//NExHIRwV6kANKalBiVLUNYpPH1CVEniaDKWwy3oltf//9k5f+f/9yqLb1Ks5QyftKrbY6EGnz1OABUY72VLnCnEQ9WympmvIMSxtUFRJBQIH4+hp+W7A1fIpj9UIV2//NExH4SmWKkANKalDqhgsM3sHy5TPf//+me/bd/7l38I8UqWT1HQB0afyHUDbb1R28P57KDX1a2P953l353eTOheTa5N91nZtZ9Z/ERrS572t/7jyklqHo6uKq///4l//NExIYRaWKoAMqWlBxhHq//b9TKZIBQaCYNIC1SV0GsxL6qeDwcm2KGoc/0f+//nyRMJhL5VfvLZszL/1Lya4ltiUJHlPO///VJTuS+R9f70V1AMHGDBgDoNlV2HBwM//NExJMRuVakANLSlCArLWJMsgmHaX8a1rHmX///8y//9f2gqhjC8Nfq50KJWZ1ZSntOM4UeAkEj35aVdr/7fqf8n/R5VRA6MGzMqyKdZhDZxRSHkPMDdluSEeG99bAr//NExJ8PqQ6gANHMcIq8LsAVAdnZbYjgkBqC0PWvXxsJMbBPw57ugyNlq4tBLxgxJwWsSugmv/yAO8OeC2DJCrkP2q/+HIEoBawuZoSiRoSnv///LhoOcyJQeZMJQe4l//NExLMRYUZoAVoYAOMtLt+////Howwglg8CURNy4XC4OdMpBo4NZV9k/4///+P/////t9V3fGydSV46SUN+aPUaKFA6BsOk8gSYSgIAiQoew8A0oxa30ypNySiQrndm//NExMAgwyZcAZpoAOkuwq2SSy9/f/fVsOLnR3mgjFhskTTclnSVlCtph9KA8EOPz/33DH/L/2Ll8GBw+gtapMh/kASFxsBALwQykxEcB+VBuOkgDJOYiAbUByMgVqlC//NExJAgwyqsAYVYAH6X6r9tp3cjbozHMrBYojjTOMEQMxgYq0dzPVTCSTKrZqy/eXfY8qMlT2MiXR2VcYVMjDFdkY5nYeViCokw4bEkcphdBdhxUMhTIKsoqlUYhnlo//NExGAW0w7AAcEoABP//kbAiNMibUuf5kcLQVORIrMsqB5QkcrlQxvR5ZdWfrfXzdKdc0rdGtVkUveKt/6R3nl7sU39CUGG8b7x/6WYpxlJ1HBUlpn8R4Bx5FtHl+12//NExFcQ4l68AAhKuRNG8oKGJ1oUJEOrPYpKlLjsp0wZEFA0DTKwEse9aRn9H//qeV9GSvnf8frczpWZjRikQOrPiYluzkqhTghSzSlBEo03oVGQ8rbhA34ScBrPEjIh//NExGYQINKoAMJGcEWKRRumt9GZaakIFS9sxYCDDUW8VjMv6XCiZtkIBwYf////Z/pVl7RAr0WGfQ2iJKMlKnuDTogHLZpJbTUKHWBXrBQHfCx2eS524dxrT3OZ8Klq//NExHgSkTagANPGcFEe2GejgyMEFUf2y+VocRDggEQ9/////2LVizsg8urAF1RghJd4CTTpIS7xg0TaqmZszeBUKnsMSM0gWjQ+y2KwzjM01NarVu5f/9/Xf/9Y4+Up//NExIARkT6YANYEcFlEqzl/8raO9AIVDIdkuoytE5KlKh6ImA2MQJiIxIfEmFJEEPd9M4u1FnZTpSZEDT4w0esT3fxfLm+4wpOXbLRXV/dWhXh9lav///R+XlEA+Udp//NExIwR6UqAANZEldUQOXWfbEZ+Z8lkxaayyEeHhLMJcLzOJmZ9q5yT05Si/SZL0+5SzQ379/HhaIhO710idc4gsHz//lD/oa9f//5M5/RP8VIOTyP6FYjEhS8/MoFZ//NExJcR2IZkAN4eSInW4JMJ/mrMAzJAWc/KFRdrEYysgDoJiU2R1vV28m8ftveMzUMe96FycEIUgxn0NE4EgcPgh///9X6+//0q1D4IDDlh1qEiMsS51TowUnFnWjaP//NExKIRkN6MAMvGcAJtAERQMw+YdhHgL0LkoHRSSZiK1aY98302rP3DVQjZBMWo3+j0bLPFR6qSUf///+W/3oqaaSATo6dzARsShBmKMl4h0MWLwYBqtL66aDCAPh0J//NExK4RWOKcAMvMcBAumgxiujViZJisUQ5n/z+v4t+LF1K7ZR2hLA2iKn8U2YieDR7/////16R6CUVNJvkiagVUwwVgdNswgCeV2T3wz2BEN0MJTPpPKDKRLe702fze//NExLsSIU6cANxOlGfmVr/4/2HR5pyw60FxYqOL95Y5/////vt+laDkZNkm4CiYwQmSBzY0BJlKGHEbotyENZVDRWZwSBK25DAZ4DnGHYdgmhwGmq0iqkysyKG0iB27//NExMUSOOqQANvScIlBZigCYu5MVNfz8//IwyRhgPhxv///sUqQTaTxqeEzSnLchmq7j3A59IoZ7YMRJ1KiFUp0+w8+lmqdi7KVzGGTGV6yUgQqzrP1cUVA2mNZ4oE3//NExM8Q4O6QANvYcJO/luAXPq0rULucAhZpok0/841FVE6b5KpOiPNaJo+3//////1m7DTXrUigq5Tv+2u4Uevlxo4Aj3VvhYcDmXSwAXhEkq7PG3xocy1RdlwviIlt//NExN4UGUaYANvQcNCQut5ExVM40UXpEEjclOPWqaH+rttiEIVdTjq9kijrsa6n//zH17xf9W8NRbzM+vDZuU///xgSEIaOado9j/9dRcUvC1XDJsoXoIVvGYMEprFk//NExOAbghaUAN4amDoYJKuA/HotSVAAbVDsfacZewdKr+Y1u2KrEEkRYl40VVdsmxBV1rN8Sz9OHVDZ1Tr//P+M1//9Lfb0DAsLEv//+od////UtZDDYMKDroEaAEyz//NExMUZCV6cANvelAxZR+UCEAYLDDXzwLSZvLE8sn0dBfq63NiSMx2t2VkVRvGFrZz1KMVppnCUgkBUXYLtZ9ga////lFN+gspjCWpgMuHLwoCgsDAeZDLiLbXzDorX//NExLMVIUakANMecKvkPUPHAyxaXBMj+jZLxWyLUM7ijt11+lNHkcOiTM1vru7HEiQEOA40Kf/r///1/x7DZWpjLXhIAfcEtE1s00gFRAxCQxoBwVYgbrQ5mSiU5BP9//NExLER2PaQANvScD0VkcZ2N83Yaa77fWfX5HOPYhCGgBk6qDvuLk9TkX//+kmK2q6wIQp6KQlmBCZk4R5JBI0fMIHYwsK2rXJm8eEIihyJWc9LaYH/Hf/P37ZAuLj9//NExLwSUOqEAOPMcPLn/OnHNH3J5R1DsgSh4mJwB///ng0hNxMDtHtan3CiVgacJpWPNIqhbAAI3FBN4RKk6HaUDlyGWtB1NOEDuJOhum3/9pCjgpDn//swcjxQ5UYQ//NExMURoMaIANPMcAygblhQ6gA6QX//TpjDAuw2qlQ4CRb/2fRVppebqjZRF6leygfFgB4ZFp8u3Yaq+1H7f9tmYwYjv//so5Qoo7lDmMIoBAyH3AYOn/+7+PGGhAHT//NExNEUoVKUANIGlA86gjC4RW+5bN1lbraV+YBbsOmISLRlQguvNOBPwFRbwgmvSmtPX98kyHGCmZK2b76nKLiDjTjyAcSKKB0BxcREynMdHc039t//p776K6j2HwHn//NExNERCVqYAMlElOUHMM6965fZ668cI3qgyULpukcIlK9TaVHf7vn7Yry0a2yH/Y6kxMaIAoKJpMzuifdriI4aKh8TFhUCKAoxQMHUFxQOFEXmb/onKn7r3f3exhpb//NExN8RoUqYAMiElDoPt2arMeMbd+yYHutQq6nkBmcqoVAZO24YIZbekcu3jP+InlzuZuZqn+pCIdzkGDQOCDzojVdEat3qYQFAoJkhwUCIVFg1B0xYVEHZa+7f///+//NExOsTghqYAMiKmPup6nkB19eks4ca3p6jRJsuPc4kKWPg3UDQWm4gIxt3ZefPX4ymPub5TW+bh/+nuT2LIYGgSHkJFQ6s/q7j4rYIxWwkMcWGoRDgpEwPxMNxuce9//NExPAWgmaYAMlKuO//////pmZYHgu5N67yav/Ss3BWwagpAqgnBYLrqFXX8v6zdi4czHjvn+/N772uyrPKPECxCIQt5exhcayP8eyZTJUC87qR9QiJzizRChNMkRn9//NExOkVMhagAMlOmH+jYlgPLe7Relf/nClyR1XKhJZBq2QNkJgc0jSI+npqP9hBBA75b8J7TpQu+5mHOgAMAlIvGRZzTX/Y1OIFqw/7m6UtMggZYo8Ut/s1atq0DmHT//NExOcUehaoAMoOmF9U6v+j0xamjIhGHVPs2gBAM2akJAqcdy9LMYAXtyR+sbju66V+n8UpSQ/w6zhYHz4gzLIRxRiO7CImPDsijyUKcgDjxcEFzjhexnr/////+xLC//NExOgUSVqoAMmSlJFDl068UrGf9NNlNa27HCqGa+0A0oyr9lHUtxGa0F3+9R+brecN8e0jzW4/vBf7zApZPx7vDLiHMLeBaYOK0hFZHZjUBOUdTm4pMRZlOMPLRQyS//NExOkSgVKoAMjMlAoQFiOrpd7f//zAqFRjkt5dLf/s0Kebvblp8V02yoyozPUhqIttzdH9ntPVS79WzXhxM1cP6OfwwzvTBMeExCUjwQ0LdlwN5lwnpiUDeGkN7ev6//NExPIWMh6kANIKmNem2+bPKM0wgPl+LakD3//9JUPEml////0jFcuR45Lqk8hVl2MIbNnAeT+2vkgdtSuHq/m+kDjqab7ZsyFBGeFWSKFwYSzF0QvkuqqXAU4wXRlM//NExOwXQWaoAMvSlLU6lz9W5O9Mvu4Xjj6lWzTv//+GRdg79f//UojPvofz6hD9GEWgNf0kBNJtbtlo+RUtKLPOXTtZFUtqnEpAhwHIalpUNplZqdbNW4pHS06Sl//b//NExOIVkV6sAMvYlPu+flvSQ0Rf///lagSEDIKKcwnrFAsIQIOgEa21MDIjSVBH9Mhxn5baldmPvznjS8wzpaQs6QlDSy7z4pCg+AoClj4hZRLLEy0aIoqsSVReGRZI//NExN4UqVqkANPYlIx6FuBYAiJlHLf/2dt6//9PqmUCRAQQNyA5YLCsUTVdumVsaHZ3PYAgR+eYGpLhUgtIATF1uOc4eNAbg8x6my70jM3KZcYL6MMKgn5okm3Z6sKQ//NExN4Q0UaoAMmWcGgsKQlgcz+mpm2E8HIJ+CMBywnY5f+9BbvdMLeA3xBxgxwAN8LMFsEa///93BXCiPAxHONiRoSg7yYQv//++/9FBJAuEMvnFEmUzAuLlEjfY69J//NExO0WMQpoAVtIAK6zEb3KAiDqsMOsdndex2g+HIpjK5ffmJRUSZGAoDwQwBwjUXEig+AOLjjGlXEAPBEGi9CyA0LeZ+aIZIrSrcRznPHu8Pc0arMdr3XJqpyObi/t//NExOcjgyp8AZloAGIZaWJpmvmtPNha6vtalYOdqzpcZRQWwVGZHXyG+lUo5xLVj0lpzgQZypYESKmIEODDToDAzhBgRTumOqFCLWSx0KpsV6pXZ/oSk0U+NxGtxLw7//NExKweylKYAdhAAQmxjgn1AXNPNpwIUqTQLRHPy5qhLn7CQtVODdjf1uHebGNzY3M3syH5WHKO+Z9xJP///44Xf+y53/vSPsUqsxoCBAyUz0wpUaGtIHIAKKp2mNKr//NExIMbSWKYANvelPbsssnEjCUiGxHBVP2dQx1GqW9efNSlYl0hIkRABPzgTqOY3TMyjnIbj0Eqgd0p/Y7cUZPUnGW++1Ps2siaUHq+rNnAUOf//8qX3EBmRg1KPOPy//NExGgXwVqkANPYlNEBQrdi8IYVMOrxgcpHJ63q6d/q88KR7qJeaI+a4SqQssj+Y1JCotMyGchkqYQEBOSunHP/sv5XHffxWpLxQsRVcfqgpgT7DSX5Fqp0GWwyFzDF//NExFwTAVqsAMvSlTFJB9ZITPEypVEmgaZkdTi3GpsyjcCwqIgsJuWy0MFWZuqaEQgiyCrsOqw0JVFToapQ8wsrM7fktzB4EmZQsQGmgaTYBGVMXgKwWRw1Wk0ueNg1//NExGMQIO6YAMpScGbrIYYl3xUgFjVMUzGqUy4P1W7yD5KlVmYBUPtDLP////+pf9EwPErkGYKnpCGO5GYWmrKGLEHEBAAQBtZxEkjl0IWEElDQxcxBiNEJBW5AAbYE//NExHURuOqAAVtIABRcZJGhiblgh4rQTcI8GfFvGdMVrLpYGiViaJ0nwE4NiwvoTooMuG78cZSWtSwuoEeEQLjJ9vZMxSZZ4myDiyCcY5/3/zQ5/VrP1IqMkHu///5k//NExIEgacKMAZqAAIIxVga4AdzgrMos8aFvggYyiyrOFDTaVQJNsHIuYNPq8IIkox6kJRo/STJVOMD20GCqV5CU8wokWQwC+HxCDmALVQkR6QkipA8jWHQPhMR3kCyi//NExFIhocKcAZl4ABgqi8GKaouacfMbBSBFXEJ9E9lypla4sO46GKRdsTNX///+L9f//zH/6+Yd6I1n//9hkMGqHLBmRIYmIQTEuNjCji/QhGMgHCNEfhQikemBTzke//NExB4Y0XasAZh4ACynYJ+rDMzz0Y4dYsGE+gtTmaR0RZzRG60nMnkWHAyGUfp+IY0R/qZhg3rFY0AtQo1b5tuPelILDGfPtagtkBaiwQx/hmoQILZquWMOJFkqTfte//NExA0U0W60AZhgAGvpbTatfi7FpapKNnaukbjpKfWvsOMOdjHs1x1WDQsaqEIzTJiSKEhOKpMUf23Qmnp/1xJYr1uv7b/7fWZrXvx9qEEX9fpqCyiy6cScQieTVW+y//NExAwU0W6wAZhIAHWnLlUnERryYtDqcUFhtQwyeoRLspOnFityKGkwuJyoGzYfAUegKR0CgDIyURk/2GGFY3+MmGqWn/Ni5w9VDZb5KqwBon/j6gpIRjRbHpBaIcxM//NExAsUqWqsAZhgAfZQtNKpVYsAVjddS6QqxuqYn/mF4RxQFy+yxpuegouQx6EAWKzA8aH5usAOkKpKSvsLLUl05re2XNHsa2dfc6/TlstaZ1ioXRBRCSJDKLBR5cBa//NExAsVWWqsAZhgAOXsbdKpYyDUen2XOUquxARHL+bLgaj0dnnPjg00fLjIpgpASKpDxw+OssfD8t09OvWOfTm3e6bJl7laXmlPp0/a09M2u5UK/8qDShRCYql6MQiK//NExAgTmWq0AZh4AKCMvWEedhzOmFZRtUzOlY1WGgqNaWlcPlEKtQIQqI1ldLcbw/WbwIloGvj+z6toNLQIm8azmLTOawpc13vGL7//rrOf7Vi1FEKoqcrWJDl+VrzL//NExAwUqTa0AZh4AFuKPgoaiurGxOOrUR+Sg9ZYybncLiO4TIEOOirnUgSicuPlKxsw9/f3/nOrZ1a9qR7avmu619twtxd0pH5kMWgUSHR1/dx6TEGplUgQxW9NdUiw//NExAwUSS60AZh4AA1xxk6lDVSoA22my9qYI7SVBcGIyqAfwE0KMRNUXyKW/nyb0e/xqt6Z+Na3/v41eHI8/zmXOfXEj7cOOJnQmlAuBmE/9dWblotF2QoVVz1tyiyM//NExA0RYUqsAdg4Ae1lWVkj3IyMuQYoX/WQ05GR5i9hcVKxbgCSIFULHTnZlvdOjJS6U395zSzDRVaxjHIWwCFq5ae/pcYIDNOJKxrbxl4WDuKp9NEeakOmWDED6N8X//NExBoSYWakAMPGlVA6lEOQH6C2AWxbDiSClVsb5jW/z/n//P9288/PL/LxmBxIVZqKHD1GoIEowowt1aSUktKw7vg4iAJKoNLUnUmGlLIU+VwbnE6K+F6iMBpA98Pc//NExCMRgVqkAMxElQFmOEWMipdL5qpb1aN/rum67/+dIhnaDOoJEIQgs6QBgdmolUDBkSZUUEtsGdsSCpsFyqGloVYkdkwlYC0qKbjgALojDggzXm9hyH4zXwyueVVF//NExDAR0IqgAMYwTNN6BikVNrePaNWeQNFwogwL2IZ////6lYYcM1+D5KAlgo8JcIgLDJC9Z6sCBrgwYixHyJCtIXKIgqhCAlwXFeSD4xZ3q8TYw2uxrrBqvKhMJCqB//NExDsR4IaYAMYwSHEgcCYldMO////+jpWXthIY8ifgwAJibYwwczdD9Ip+EymRi5Q/4lAYwGz4apD9wNQcQrw4yqxbn0f1I19lLqknf13o1XlMrLOxjlDAImSxv/////NExEYR8VKcANRElP+tggKjPEnGRPYW2pefM6hCBTQtJNUcE0iwG1HA7QYKGkzbYSKWmZaq9oeQueQxayjE7OIEG4gKhI4KJWtX////Xxa1CmxlnDsM1mGMSs5IAqRT//NExFEQmIKQAMPeSBss6/COrLWeywoxFAbwIcIkISIID+J0tJJcs6ec4U+LY/9vC9v8fDmeehr3801MrmdOJUdBwoEKsudLyguBGdx8wIsLOmgVvdJMMDCXPS2V8uk8//NExGESYU6EANPElZ8I6oQhpfzOMZYLEr1TMaLW2RotslN1lJtj9jQCeZnD+ryl5ZYabuWRMEfQdc6WFTG2w7XkPltjdzYKgphwC+VxW5iNFaiLkw6WFUrIXIjoIuIh//NExGoRqSZwANPGcVMxZjGOeO/xj6l/W1KUrFL2/+Ytv8uUSzbSP///8S1//+hggXcGajUD556qyCVzKHs8QlRKy2ql7det+zTN14aqFyzAkMBtA8RuCSFHYVRFlCRM//NExHYRQWZMANpElCpWwYbdlb/LO4LOV+/f//trAOwNI0DWeKZDVM0QDqPHvwqURWiRkHgcGaeYlwGwgoNmAZEIh1jWDWrAc0aP3jWU7KBbV2MvsbtRvepW/d30p209//NExIQQgNIEAMGGcE1qFQsk5RCErCpEstdlrtgaNilCQgiSikEUSJFJnXARQYCAgwEKZvwzMBMGBUFYiEIKgqCrljQVBUFjxGVLA0DRaocDQiGuxCCp0NLrGgqJudER//NExJUREIn0AHpGTGPM1PPEueKrdoW477CKOVawMlGLAQVBUxkaEh2fNAWI3d3nUcOJQc/8QJhIFyxgVnGScuswjScjUxicsnWTrcv5fyd7C9hewrJ1ewvZ1k4XsLm4//NExKMXaLXQAMJGTJ2H2GnYfYeth9h6i52HrLbIdststqy2zYfdh9h9y32LbLictsuJTisTMlZAukzDVkC0iB5qZAtJA85AgekQBzlJwrUyZha8SRVuU3VY0503EdV9//NExJgh2xnIANpMvaVxWGpm9GpTYSDFqJGwlVqp4p4mnynyn3GvGvGbzXlLqVtqo+KLeTnyp6x8YckFqiMDkCtFGzG3Te4K7Lmej2OTQyZyaorVRS4oTUYGEMGCoYLB//NExGMfqxnUAMmGvMSwsZgg6gnUNSUE4wYOjA3EiqMKUhxVJgcgVkoB8g4gwwaIQ4kZSk6TMea8zMwvHJ6FQdZ/k1Jv///zhqTUmdqrGAghwGjMakBAxACGFiWPUFhI//NExDcfIxncAHjMvdQSNhKe8nWiDHjSMJPLJGmETkyJWzjZTqOfK7tcnPm+atRItST75hIiYkRfPVonWqW/fKls3KeKlmeEiJSaJza1okj1USoSgJsmwahKP2ND3wAz//NExA0UuI3UAHpGTOwogVFb4TRyQE7gcAzREoswTCwYE4WD4gGh8uOOFxx8oNPlxzi95RcuqXyiZdEuiUTLol0SiZdEuQlEy5CXISiZchLkJRMZepmW2hxeufH8hqAN//NExA0U+J3sAMJGTIbRYIZk2eB9GJIOLFQMRuMgtygIAggGQyowCFJ+KS7U2LabsO2Mc5j2Osfa+9zxwVuHoYMve4oK3nUCg+08guLWBwyofYdQMD4YjrkOzArs4Q+O//NExAwTeMHwAMJGTKwJn7JBK62UqaAx1EKqYo2KEpDM4/CpCY9BMNGZ00iBTanJaPNCj3WqZQYD7i8MAAEHnyhMUZRNyk4vb+viln1ONyBK0l1uLdiDrROVjTKBfqnm//NExBEUKI3wAMJGTJEyRKKBYZV1iMogg4BisMFRZjYPoSGCADNmORHvbigoF6LnvUkk4cTCBsNXExRLLnIsmCAnEDsTjgixvTyATNoECd5EdZz/U+MUwu09QIJA0clA//NExBMW2QX0AMGGcRcSpk9OR6cythJBeKqR1MibW+qxqUMKKcFhPY//Vd79xkpKWkbp1rmjYuWSVE/22CpIVL/+aVJNpSRwL/RQ0F7///7104VK8XUpwwC5iTQlWhrg//NExAoSOJn0AHpGTNrhMwqQ4wbY6FnQjtshhs+WisSlSRVw0iHSxZ7TsqSjXJIsUO2IbH6WVbTzaF0serQytA/Y+LJQ0ctD7TlCkmFrLGkA1BLGVRtQGywYY8IL6Rty//NExBQQwMH4AHpMTGCwvY9k9MQP0gqMujMaMMQcPhh61vWDkHwI6p1MQXFHZcT6n/+Xfy9wfy7yGf+XEoE2UQKoNSWMpLRzYK6rRVzFQ6fQEZEgGVgtHY2iWXZRarJX//NExCQZGW4AAHpMlaz4wXcsVYcoOGej1U7PD5Myyl1PzfUzubVQl8fscte2V5S35ZJf6Mjdt+qgZM/tt16y+pFK7f+/bgl0K/s2/3S1CBEUPSjCdHyjVc5KaOrTAEeA//NExBIQoNngAHmGcECCgYcATAoSiSuvLb7ttc1n+UNUYKS54KgsBREWKkWyxUiSkWkToSCoz9gS90JgLoVMQU1FMy4xMDBVVVVVVVVVVVVVVVVVVVVVVVVVVVVVVVVV\" type=\"audio/x-wav\" />\n",
       "                    Your browser does not support the audio element.\n",
       "                </audio>\n",
       "              "
      ],
      "text/plain": [
       "<IPython.lib.display.Audio object>"
      ]
     },
     "metadata": {},
     "output_type": "display_data"
    }
   ],
   "source": [
    "record()"
   ]
  },
  {
   "cell_type": "code",
   "execution_count": 19,
   "metadata": {
    "colab": {
     "base_uri": "https://localhost:8080/",
     "height": 397
    },
    "executionInfo": {
     "elapsed": 52709,
     "status": "ok",
     "timestamp": 1665472032420,
     "user": {
      "displayName": "한현구",
      "userId": "08987249905342132055"
     },
     "user_tz": -540
    },
    "id": "8XWES9Q9qp2f",
    "outputId": "0d91050f-8411-451a-8c9a-344188aefb8a"
   },
   "outputs": [
    {
     "name": "stdout",
     "output_type": "stream",
     "text": [
      "Speak Now...\n"
     ]
    },
    {
     "data": {
      "application/javascript": [
       "\n",
       "const sleep  = time => new Promise(resolve => setTimeout(resolve, time))\n",
       "const b2text = blob => new Promise(resolve => {\n",
       "  const reader = new FileReader()\n",
       "  reader.onloadend = e => resolve(e.srcElement.result)\n",
       "  reader.readAsDataURL(blob)\n",
       "})\n",
       "var record = time => new Promise(async resolve => {\n",
       "  stream = await navigator.mediaDevices.getUserMedia({ audio: true })\n",
       "  recorder = new MediaRecorder(stream)\n",
       "  chunks = []\n",
       "  recorder.ondataavailable = e => chunks.push(e.data)\n",
       "  recorder.start()\n",
       "  await sleep(time)\n",
       "  recorder.onstop = async ()=>{\n",
       "    blob = new Blob(chunks)\n",
       "    text = await b2text(blob)\n",
       "    resolve(text)\n",
       "  }\n",
       "  recorder.stop()\n",
       "})\n"
      ],
      "text/plain": [
       "<IPython.core.display.Javascript object>"
      ]
     },
     "metadata": {},
     "output_type": "display_data"
    },
    {
     "name": "stdout",
     "output_type": "stream",
     "text": [
      "Done Recording !\n",
      "파일 형식 변환 중....\n",
      "파일 형식 변환 완료...!\n",
      "audio mels shape:  (1, 120, 450, 1)\n",
      "audio mfcc shape:  (1, 120, 450, 1)\n",
      "[[2.5680833e-05 9.2692912e-02 1.0731666e+00 8.3183408e-01 2.2808767e-03]]\n",
      "\n",
      "------------------------------------------------\n",
      "감정:  분노\n",
      "------------------------------------------------\n",
      "\n",
      "사용자:  나 감기에 걸렸어 기침 나 안양 그거 나한테 옮겼어\n",
      "시스템 응답:  감기에 걸리셨군요 \n",
      "\n",
      "시스템 답변 생성중... \n",
      "\n",
      "시스템 답변 생성 완료!\n"
     ]
    },
    {
     "data": {
      "text/html": [
       "\n",
       "                <audio  controls=\"controls\" autoplay=\"autoplay\">\n",
       "                    <source src=\"data:audio/x-wav;base64,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\" type=\"audio/x-wav\" />\n",
       "                    Your browser does not support the audio element.\n",
       "                </audio>\n",
       "              "
      ],
      "text/plain": [
       "<IPython.lib.display.Audio object>"
      ]
     },
     "metadata": {},
     "output_type": "display_data"
    }
   ],
   "source": [
    "record()"
   ]
  },
  {
   "cell_type": "code",
   "execution_count": 21,
   "metadata": {
    "colab": {
     "base_uri": "https://localhost:8080/",
     "height": 397
    },
    "executionInfo": {
     "elapsed": 52133,
     "status": "ok",
     "timestamp": 1665472221867,
     "user": {
      "displayName": "한현구",
      "userId": "08987249905342132055"
     },
     "user_tz": -540
    },
    "id": "O8Lmpfdz3ZqK",
    "outputId": "7dff96dd-4060-4099-e395-4453ad7d332f"
   },
   "outputs": [
    {
     "name": "stdout",
     "output_type": "stream",
     "text": [
      "Speak Now...\n"
     ]
    },
    {
     "data": {
      "application/javascript": [
       "\n",
       "const sleep  = time => new Promise(resolve => setTimeout(resolve, time))\n",
       "const b2text = blob => new Promise(resolve => {\n",
       "  const reader = new FileReader()\n",
       "  reader.onloadend = e => resolve(e.srcElement.result)\n",
       "  reader.readAsDataURL(blob)\n",
       "})\n",
       "var record = time => new Promise(async resolve => {\n",
       "  stream = await navigator.mediaDevices.getUserMedia({ audio: true })\n",
       "  recorder = new MediaRecorder(stream)\n",
       "  chunks = []\n",
       "  recorder.ondataavailable = e => chunks.push(e.data)\n",
       "  recorder.start()\n",
       "  await sleep(time)\n",
       "  recorder.onstop = async ()=>{\n",
       "    blob = new Blob(chunks)\n",
       "    text = await b2text(blob)\n",
       "    resolve(text)\n",
       "  }\n",
       "  recorder.stop()\n",
       "})\n"
      ],
      "text/plain": [
       "<IPython.core.display.Javascript object>"
      ]
     },
     "metadata": {},
     "output_type": "display_data"
    },
    {
     "name": "stdout",
     "output_type": "stream",
     "text": [
      "Done Recording !\n",
      "파일 형식 변환 중....\n",
      "파일 형식 변환 완료...!\n",
      "audio mels shape:  (1, 120, 450, 1)\n",
      "audio mfcc shape:  (1, 120, 450, 1)\n",
      "[[8.0441343e-05 9.2107379e-01 7.8077324e-02 1.0000149e+00 7.5358129e-04]]\n",
      "\n",
      "------------------------------------------------\n",
      "감정:  당황\n",
      "------------------------------------------------\n",
      "\n",
      "사용자:  이날 취업했어 나 네이버가\n",
      "시스템 응답:  취업하셨다니 정말 다행이에요. \n",
      "\n",
      "시스템 답변 생성중... \n",
      "\n",
      "시스템 답변 생성 완료!\n"
     ]
    },
    {
     "data": {
      "text/html": [
       "\n",
       "                <audio  controls=\"controls\" autoplay=\"autoplay\">\n",
       "                    <source src=\"data:audio/x-wav;base64,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\" type=\"audio/x-wav\" />\n",
       "                    Your browser does not support the audio element.\n",
       "                </audio>\n",
       "              "
      ],
      "text/plain": [
       "<IPython.lib.display.Audio object>"
      ]
     },
     "metadata": {},
     "output_type": "display_data"
    }
   ],
   "source": [
    "record()"
   ]
  },
  {
   "cell_type": "code",
   "execution_count": 23,
   "metadata": {
    "colab": {
     "base_uri": "https://localhost:8080/",
     "height": 397
    },
    "executionInfo": {
     "elapsed": 52972,
     "status": "ok",
     "timestamp": 1665472326950,
     "user": {
      "displayName": "한현구",
      "userId": "08987249905342132055"
     },
     "user_tz": -540
    },
    "id": "EkZguLQI4IEw",
    "outputId": "c1e52c5d-40d6-4668-beef-bcff8480859b"
   },
   "outputs": [
    {
     "name": "stdout",
     "output_type": "stream",
     "text": [
      "Speak Now...\n"
     ]
    },
    {
     "data": {
      "application/javascript": [
       "\n",
       "const sleep  = time => new Promise(resolve => setTimeout(resolve, time))\n",
       "const b2text = blob => new Promise(resolve => {\n",
       "  const reader = new FileReader()\n",
       "  reader.onloadend = e => resolve(e.srcElement.result)\n",
       "  reader.readAsDataURL(blob)\n",
       "})\n",
       "var record = time => new Promise(async resolve => {\n",
       "  stream = await navigator.mediaDevices.getUserMedia({ audio: true })\n",
       "  recorder = new MediaRecorder(stream)\n",
       "  chunks = []\n",
       "  recorder.ondataavailable = e => chunks.push(e.data)\n",
       "  recorder.start()\n",
       "  await sleep(time)\n",
       "  recorder.onstop = async ()=>{\n",
       "    blob = new Blob(chunks)\n",
       "    text = await b2text(blob)\n",
       "    resolve(text)\n",
       "  }\n",
       "  recorder.stop()\n",
       "})\n"
      ],
      "text/plain": [
       "<IPython.core.display.Javascript object>"
      ]
     },
     "metadata": {},
     "output_type": "display_data"
    },
    {
     "name": "stdout",
     "output_type": "stream",
     "text": [
      "Done Recording !\n",
      "파일 형식 변환 중....\n",
      "파일 형식 변환 완료...!\n",
      "audio mels shape:  (1, 120, 450, 1)\n",
      "audio mfcc shape:  (1, 120, 450, 1)\n",
      "[[0.00135328 0.01135161 0.7761847  1.2005017  0.01060884]]\n",
      "\n",
      "------------------------------------------------\n",
      "감정:  당황\n",
      "------------------------------------------------\n",
      "\n",
      "사용자:  나 토스에 합격했을때\n",
      "시스템 응답:  토스는 토스에합격할 때 가장 축하 해요! \n",
      "\n",
      "시스템 답변 생성중... \n",
      "\n",
      "시스템 답변 생성 완료!\n"
     ]
    },
    {
     "data": {
      "text/html": [
       "\n",
       "                <audio  controls=\"controls\" autoplay=\"autoplay\">\n",
       "                    <source src=\"data:audio/x-wav;base64,//NExAAR2xX8AGCEuQ8SKH3BDPlpu+eJ2orLK4LuRXnUn+f/Qn9////Xe3/79qNIjTnPPV///7/7dveer//dCMRiEIQ4GLDgZwMDAwAAAAAAAAAjCjq3seViALMVBXWd//NExAsQADYwAVsYAEtUuWrdi0CwOGwk2cRoZ7C7z75RTnkPPmWvu6wixggLvy+p3l5PqBNknec1OB+iOVA+hCkpCD1gDMHVOQCQt/++XTNCB//9TCZ/DFAjw9/igySJ//NExB4Z2ypgAZqAAMHb/4uNQCgMgaf/kUIoaCP0v/+aFAnExjBkCb///LxBCdIOkJ0H2OMy////IImYFxiTLjMbub/////5gThOHTcn03ImYIEHKROVGcSA7WSoQGy7//NExAkUEYa4AYwYAFYTzl62UDQFkRgnFEooSbgDfHIqpERnH+eb6/ft59Mqdt/7+/G4QMy5R44qsgqpYjTlyESiEUuxzR524m9NO1oFEYqZOJ9SFcrDCTXk6ld6C03E//NExAsT4MaYAdhYAERgGLEH9l+Ebn8KKVxbt1qkHSeUk0ZDtEUfTLSv6clPqu3HhdwuEtIqVDSth4JAipjWdVF2yRGuDXzweprDV9gU/0/+hbkRgI6hU1ohMYKoQVuM//NExA4VOUqcANPMlCDxIEZZAIRrVpey88VMVQNMeKeBPgFhewqTiaFaf6WrS2v//rOr3x9x89xqBMyz6ns/aHaH7s7c3XsfQINR///6STPXDZwusZRE7+Cjsg2SJVHN//NExAwVCVKcANYMlEdTa2kfpG2WW3ptMORWYHAxVqw2CUlDMFK4vP7jdX8P/6mWdPh/8y9pk86eIBSIGlOfz427yvlJJI0sLs88Ud///yiWoZ0StVWdnhAAPorai8Rk//NExAoU4U6gANPGlBSqVpgNIm4Mr9o5y3AVr7PIS4MBksKysgHLgoy2YvJ/uucRfTW94qUUooVYJM0P7yzJuakFBBoNgQH2Nd6WnCjdY0PiB3l3/3mF1VQ+GtT7xM6n//NExAkUctK4AMFEueCmu1LeOvyy9S90M6BECio7t////////3ts+z9iKioUpGdjkABFiT1VzqeRp02eQjIjBFc/XkkkOhAjHV07sRVFxx5YARtGSD08iPAUUx6q3/////NExAoUaxa4ADgMuf//////////b//+cOpsyUe15Do2x2yZrK33Nrm90nFae9c4xFJFyvhhNlOXtukgUxpPBNsghriIMUQREFpk7C3PEGDUiA1QAmoGv/////+Pbbr9//NExAsSOx64ADgQvBP+Cp9ZS0iSXJqnaEHjR58RdicXNYQEMIVD4my1kcg4UzCxq0cMJGFVJZmbcihQXFQ9DhKEokUR8WE5roKJ4f///////t/u59+d/neP++y1Y0tu//NExBURQyLAAAgMvLJfWm9mkTpqdb1S+QyP6sk7klo3rJQktlFZNERkCinYKPBEAktjYMBD7gwgnBA9PP///z/l//////b/W7PRyVUcNIjMiHEhUpxyVuLDDOo6lndh//NExCMSEwrAAABKuSIzC6Kwykp0RToo10QeJtHiUpyED4fsgwXAYogEziIkcVFRAcOVCQD93///v8gEd/3/r////Off+eWp5Z/mQciVkr5F076qEBrNalpHwyIxLj5p//NExC0RAuq8AAhGuUi2YubNXKxAzV1fOVG6oXRnDGcAFrVb31Qw1ChmPLCNmowLsCjlNb1mbug2bnxNCiIjhxYPk0uRRW9f/Z8ijpaHRVNTysWfKpJCUK1POnZGWkYM//NExDwQoJ64AMNGTPtFVVB1GWW9mKRGMLSQEPRymBzYITqrDcngLn5Uk8BkcsVjTqx/NNPBRJxiHwPIfBYSTBQ36WcxqTCtKjRWlOP44jZ/7OWaoOCP///9KpVKCxWJ//NExEwRmUasAMvWcEBJQAoRWdswxIsq3YdArVwgICkwcZUF/xMiLywoiRYWEwVERkiPwWFSKkStSGjBYRhgsFaDkRYlf/4v2+9myjrJN4turSDI5QPKGlBDMGJi8jJ0//NExFgR+VagANJQlRJQhpYXEjgkY9r4eXOATeOkDjvEQuiniQ8Yk++7cdVfq+2V1wyXBcG0icSm7DH62////o/1FYAmxESHFCDslmTSAxeIUBTJTcoG06E8ZFGBb0ep//NExGMRgOqEANvScIzDIUqHHRdXHREUKHv2Fba4A+2lnHICoQ1XKBTrcCFFhmBYqPQJlEYBc3PFZPf/HwcqGX/L3UbkylDmZ+HFlURHWjE5ZNDAYeNEOSqqepbU1pJn//NExHAWoVaUANvWldiGRhwfr5CE0nVhvep1UUbk+r7p5CFYbqmoENOoRgvK6WWpnUjU+ZFtHxE00LgKUQ4bli70RiZDEbZSclKj8lFgseKDSM1VO//////7ZI0+ozxj//NExGga0hqgAMvUmP//+hX8W7HDw5lcUDGrJNJTUEUKoo6yRxoBQv+Agv4mv7Rb7Tl6rRfcdDkAQWlkBKtcckxhEiEkKHh8VHwwkkaQZ//k9uH91BZf1FJSRNJL///F//NExE8UMVasAMsSlFo1s1miilmI5rwMQFoIKC74aB2fa+6zAOz2hIP4Xv4qA3k+WT5L86bToEBnhmC+zhRG0LALqosCdFAkIimG/Men/8mOoqO4JtRp4v///WwR9vqV//NExFEUEWKoANPQlL+2iGxUt66k4LVV4qIam2o67y8kAoWeOx6VTA7RtG7d8mxQEgSajmAEWsK8V1iGpYXWaTeRNCg6GUBhqv/8l///4wtJbck2DJM5///WhL/qNpC///NExFMUOVasAMsSlOFqDNfj4XLOEoDLDoIWLMx1qABwOxHgVPoRTCkir0sLDfvpVqlclCVQwIRswZE5e4mdXLlWYmf1DHxCbJrntXH8ks6WDwNWP///lgqS+qqPo6GH//NExFUUEPacAMsYcF0bGjDhMbcEBh0YINGVEqsQcHqAFeZZ/HodJfjrPxHIpxYmzSBSyJVc95L9RKrft9463b1K/5nCbkZYCgesJHEUo/6r05fAZy2IUBmY6IYgEGLW//NExFcSOPKIANvYcJNoAhRIKnQKlabFtDzSSbmjXBjZYDe1p1HKt5b7W6Ey9Ap5fVz2tq1VaWzkEy8HwbOHsngwLu/8LEwItYSIUJgSAJDn7FtEGDq5jCFLLMyYWOBM//NExGESYPaMANPYcLJ1gUHpdEIpLzQ1XCcSBOLal3646gXTnRt3WPCx3eVz4DS8R1B2tB2P1fkSoD//U4XOFEqaIGoRcGa5mkBfc0IJaQQvUdGQDbBzumqdN4NxaU06//NExGoSqPqMANMecG4r+Ku4yiVrX/s6J0Nq369vW87NI0yNcwVA+RiTDFrgmN/8GyxErXV5hRrDwAwKvOkBwIXlCvBJFHAwLFglTEeVlOQTDmDmyloEMwJS1KWmrtNl//NExHIRmPqIANPYcLUx+sUqn1MKnabk7LMK1mKFDuEpJY9qCwkUW/8KlUUqRfETGT3hik6fwGiJXBIEYEEmYjA6EkwykqWxqY7hyqdBrpTxDRyrZlCvJvEHGboOMMFk//NExH4SmP50AN4YcHSa3ugsFhhRjCyA+RZ//Yr9//2/VurqLOmEunWenQumWbl7S+q6lFRQCp6LhSXlWH0K4cjZoys9Qyo9/zNt0e/5bIYxWNUTGEd3T1A0FRiizUbP//NExIYSUPJoANvKcPd/2IQ4rI/1VR9kZQSMgTGwjpsAAXOAHyUqqNFCQgEKh1mFZE6aBsUFXJwbTMCzEh54NVMQsvD9zH2roQl53r76w1ehqmuucntSy/2akd004Yoz//NExI8RCPZcANMEcP8MpWMKaEDocAqJN9yKgwBDCVqWkIH1qQVG2op1CRclcEUPFDxybPii0GV8IT41JJwfY9xsmugmh8/xWYe9j7XEHNZF1vvTKSYziWF84SVFP/13//NExJ0SGFo8ANPGJLOmd/7j9LAFbrIGT4YlG6e8ToUSfGYBKws+iKX+MwVBzBzCcImG+jSOCe/3LhoXzeQ4gQ7CAEsHv/y+X607CzRkxk0BKAoMdn/T/pigGDGY5Yj8//NExKcSOCY4AVoYAL5uoev/1enp6ZvKxACCF4g45hAEThv//+/+6uVicJgm0iYKZXdRFCMk4gqCgmqeJJSkGRG+Sy7lCqUyi02sngb8yhmbFubMn1eNJt/eC1K+J4U2//NExLEh6yqAAZmQAD5+fbG/ik826xPPnOs6s9x40fEetMQp8V1mkayenZs6965zq3xBi2+N51b/cHL3Ulre1ZM6znWdWg/Wq6rTf19Wxbe8/P38/GaW1mtM6zr+La2d//NExHwggvqYAcl4AWcxajYXWJazJfgJSJPbxl8re/sLbxTRPDQ1YUa3HL8QvacFzFuUWFOaMVWjk1kEqHDUUik7bTZNCUW15mf8Z87cqqff/LWo0Itx5MU9cFDbIdd///NExE0bCUaIAMPMcdWt/DoWzuwyoToV50tpdlJjvZd9owq3lVcrHKXcJ1PVh6gbEALU+M9UIoxEaG5KA8FFv1ZjEBJUM0z8BA6hiqyoQSFdSe6LwIoGIa3bUoaZNyyv//NExDMdUl6IAN4KuW9dy1zedP+u0+eOFJvvc/3hXzw/X//59SjMgoVzgGDoLKJkd+3lrf////6Pa6EbP3RnZheGBlcL2rl9rVzJ0s08ahWdwjwBxnXHS+GyRQeM+wdq//NExBAVCVaYANYMlOFhRlgMHZSwWrO5MaBhYdqLRDhiXJBHS+cb5273/z/9XrWWFTv6Q3vqO4UE/c37bb4vMfcwySSz1Ekzwd///+kr8seNKrV6JkEkrIyFuAIVAZ9G//NExA4UOVKkANPElGUiENYv3TmRuG8txxXgEbENOGgM8HQhTW1Psah/3brU9641t8G0EHEw4J9rTPTzXcruLGNnMn/y79yNx+mQ5D/yH9fWlOGoTcyehKLDedM3zWuB//NExBAUkva4AHlGuRbMbVSlAUF0f///////////+Q9TynS/4RGy1hCYG6vh7FDtWRACvIeYATvXsCFTeFhC80KHKcKCP8+udKp6QO4BbBUbWCxJZxyt//////+39+////NExBAVUxqwADgSvTbW3e1qc066ub+9lvT9q2ysgm8rKTPigKPSJ0WWkUc0XXlRdIjxHE3Z7VRWniiiNtGaVe6CSBhoC2USxIfNpjlwGlA3sdUrQk3////////////9//NExA0Rix68ACgMvPP3iG78vPi6abV2N3PTeGOjV6XkReQyJNaB0MhC+UoHNw2YKZES8FnJUtQTJxxzpkQCOJkiVvc6jSpGg2/////////P3f85dv1W1RAwtOsbMQyT//NExBkQex7AABAQvDTqejEvRbdzI2x5O8tih9yKOQLSE4n0eH4HQPJKJMEAgdQw5h44e8lL/9f//y/qyT////l///3P7f+F386eVPqQEikyh14JXo6GovC0KqEIOolk//NExCoSGx68AAhGvKAoedHw4kBCiIqJsKhAxAVaRGDUT1XDMjg4JAV3Csr+pPw1Zx3T74BsWyNzNG/k1onqhCAhgMcUD7TbRO4h/1rzp76wlyWeLEkQ6dItcIxoibEQ//NExDQQSLK8AHqETDR6e7cRFTPLPQNkkxLVw7ZKmy7FHZHWgtyxphmYb+vDS1cSKi39tVorI3q2VrLV9GiEgOVoT4malcKvljb9Pt0TarTkeDD3KFw+1EHBODDQPd////NExEUR4Pq0AMPecP8ghc8roztnNinKkWkyv1bXmxuOt+6vi+BF1771iA9r7xbYYHN6pzLJrQv5joSSoC7Pw2KTIYFJEfbqMYXk55517vXLJaChB7////Sq1hKwBCRN//NExFASSUq8AMPSlM5NARB5s2QmmZn8kIa7C2z/JHUZ50otMkJkFxLTxdATp81gTL9jTdEoaashT3CNaptep/R7aXmvRLOl2L///1rIVe1YCAHkIqXpbecrNgPx8+yg//NExFkRyVawAMtWlNv5Nxy8jR/la/eOW9t9bsCzXbgSaNAO37eA0OsOAlEVIBSagoLNDdQTUJf7cE1uh2DM5///ql3LOWGvCeF+SsCu7JAI1RbShhtlYtiwUW1Bsdwv//NExGQR8Va0AMPQlNmg/agnuhsB0egUCdTzcVwMLQ+K1A4rR1uXF1u2izi2gqwfCRA9//+qBfotQqXUGkGsO6lCLNi4QARrk2gDr9A956kiaLwE/E9nKkEnUfJAEdHk//NExG8SKVq0AMLKlD+ffs/8PfAo3IVjCc5IEj/XEt616+N6Q1JLpAe///uXXR0E5OrWMeMSKBqrVGH5VCUJqHZkuBfCQA9eUHbN1ODztCCAR7MAWP0fyq12ab+B/m1C//NExHkSkWK0AMvQlG0qfc0ZPKA5OUf4m1fVsbYmPyzoxKv///pt1PRV3vA6nV5KFoDSpW4hddbr7sTQVVEQRcl0x/phzXBkmlDIIF080aU9tQ96uy6xmL//K2HXkAYw//NExIESiXK0AMvOlNCQM5x25dXyrESsgsbg3aqq0YHBmNcaAa6AaApzH0fkYGcKXLlpEOE2Op6So8y2ltSgR4sQmxVGWjWZvw9fRotXsWvtj5+aOlCrMBCgw4V25n+j//NExIkRSVKwAMPKlbKUM2POqS1yDwEHTjOEFDrXgSBrUa+pEYHRYNiB/CxKpchwlic4sPUCNEfUUyuZ7tD6VLbVfu3zzKLNTUJAKgqrRR208FG++vVTQUplCDpgkDGg//NExJYSOUqEAMvElXGGMQc7iAZf67k5os+qHIz/knlZrMaVZw+FXASh6kf2PYqS+jEVNaAjMQeDHrepezVcxbZvalndI+pxaN+nGMryf6F1NHEGDCgaZB6i0yEAz1QN//NExKARWQJgANvMcVxJmm0z42u71XkuKbtdRQNSRJSS6hqSiLLtKgpAMXX0y7cchi0hmncvqr/+T7O62rSqMZxNcGLzGYKBhuDZmJU+QsBB5uxt0cX3LcLvnA8lqzbh//NExK0SmPpIAOJGcIYHyobacYx6SuMJOa9hXcSus0lqtG7iifa7tXoRFTHOlLgFat/ZEeP9e/gaRpfOcNEyJFMfvLiCBuLNLbm33qLhoWjArCyB5/PmBUIGLnJ9MrDp//NExLUQCJZAANmGTBuivgM/9AmDQihpPkCIkTocYLsZomv+gsuIUNAX5FzhoRcxMC+c//unm730zEsEMIeViGDmFAZgiBYMf//+m9D2y8TiRgZE+fTIubmBgsiavSh0//NExMcPeCpAAVoYAEEjCBypYNS/N60JbQ7Ffus9S/te33fdak+xt1ekDT3cSA0QwoUMIoqCWhBw0cWPc8IAuOWFLILOGvMsowyWkdMta3S3UWvKtUFW236S0rf97X8///NExNwhayqAAY+AABMKLUqGiym2hoJAVZUC8Kh1pUjMFFtQqiqaj5IABfF1VhRyWAtRjQwwGPg4Dg2aGDsce4Ou8JUq6yLOLDWXlunJmXpuJmR864Lqri/ElBpJM6Qk//NExKkbkiKgAdhAAGZT9NFjZUmOODk0NrlCFe9ouYFat8WyjkjP4L2CddGIlaHN66VCugqhZH2//2NOiELA5oSi5Zju/oFBznD0IprGBjpRVRmbABSJL0oYsd2KRLEG//NExI0eMVqYANPelIcTBuk7WXVpYFzLg4z1Lv6UWPXpi7iv2yCKbGpxYJFKcuMiSz1XdidsOknHbupoTl1eTqcE2CndaTzhSZZIJzFNzonhqZiYiVpDuGHmQ9ihUnu3//NExGceWiaUAN4amP////+9Rlc6chhWAg2Gv/9W/VWq+hUCnkPI/weADA0vUVBCcegtWVsCgFiul9oG3Y4XtZLHoTFqy5ChDuOwaVLWlUPrlk2s+XK//uVY6xW1gLNJ//NExEAXoWKYANYSlA0TKtiXN8v45azXnvis1i4IsSITK6iKzX///nmv/pVfTVR4Ew90JQUBJSFLzGZMsYSLZLGb0uOaOxJ10hzWqYylQwG0fgKYxkS8Q5XM2d+uLVpb//NExDQSqVZ8AMvKlTnWxFjKWQPCwCiot68vt6lYpA8cV8kqM1AgggR2NQwFgxYZMcI02FHluqZPPBTlT2OURtXL9nX/bsAieFRoTPlsqqV1tb7jKvnjKU2VkQeDsbzS//NExDwRQO5QAVtIAMzEroNBz///6zQ8PBc5rj5DNBs+0GrSO3UBIJRThqrFwEuZSGsg5YIgBqSgHIeAIB6lEEOlcnwP82C9IWIAMIvqPGi3AxQAQjBYCFwZKP9/ipDs//NExEogsypgAZmgADMzN0//9AuMQQ6bjn///l8nw+QcBoJ3NjQ3////dBJBk001qQP/////6y+VDAnDYcwnCgXSDjgNGigGueJwoaxYhKaj1tbk/V85XbXyicmxDlKr//NExBoXgOKYAc94ABCS/EjMU5xemUnTlH0dynM9RQYXjtkJhfvJbVtuJwySaHnxYmfJjAjIJCwTJkRobSKtP3X+LO5CsvYrufuWxgA9TGKqy4nec7jR824MQhymZAzg//NExA8SAPasAMJQcMFwBhuQBABhuRAcICFea6MVgrA8CwIA7DgRXKKQyYT5fdvgUc8XtwXUztFBoYMpHPtvR//8Lq37K8cpSYlT2SwEVwj63rMcgai3DJe5WUzLXaxb//NExBoRaPbAAMPScLfC3Dd1iC6SvBh5OfuaPcQK0pjUEZZddGlqagAd1Ac0DgbHBdP///S1/7ituV1sBY8soVnS3BDnbwRIFp3KeiqlfqnVlDFkXMbDI+3KSnk40iKy//NExCcSmUK8AMPYcADj4fiXFO21eumzD0PqV1lB1B1Zp/d9dmZv3x0NCVzkf//9Ku1VVg3aBpAUSylLQQnPNWBlFNVToTRdtHordXV0aVai4eOWYcXbeklUrCaqp4uf//NExC8SIRasAMvecYe4lfq2IwK2InFOoWtzVua11JaRE+2rGmFK7EkdQOc3FNYIJjg7YAwYrsBlkh5WQJq0Xvro1a093SvbPLhx5IAESqLsZrC0/SBG0+Xidd3NnqtP//NExDkSGRacAMrYcBB9T2nQaKoub76v/yP6otV+U0kghpwiCDih5V2pjWYbd0lQCFAS7HqW3G6FyX/tLUMQqgQkLEpNSjLxVxYiNB5ACPKf2HqWvCj/WCuVU8SgrUoO//NExEMSkPZ8AMDScN5UGn/7P+SVPNcMLAKYBKf+fEiUDjEPV1UhpwqCirQU2zqv/Gc2UvTq5wtElZVVv+AoSGcFb7kqp5Ekj6xrpHzs6FH3/4TM2I2LO6Po/7YdNaLO//NExEsSAQpMAMjMcKhQQTNAdXqACLOaB3gUVFUet2+ek+rYRLVClSAj4lOkxSYNgcWJExhcVc26kbA00eWx65BXstCqrP465dal3nwzYbGW1KclAYSAYO8BoBAYIHIF//NExFYScK48ANFGTJw0zpqje6NDoLXauSsrJ/roabVH3VgbDENU516lbGkJifrlkMSxHYae7rFCukUchdb8Rqpv7JjUXDeTrfcZkGE7y4zRiKEefuxbiEH2iBwwH4CI//NExF8Q+Po8AVQQAKmP2ABBw9hCKY6Krx5ImFKhyQdAE//dqoXijBzsM//1bP0FxpopBQuK///2/Nue5+IC7OpJX///5BhBjhAiHy45nKOYWEh5Afkv/////nmDw4Mc//NExG4fQyqQAZhAALPMcgR5P8khUdlcsxcoRrspU7CT4JegWJSubOYiRbtzHDaH2USXDk3l2pZ5XtQbl6KBxyueRJAJggg0IElD2QkJws6XtRP0bD4qg+99yhXN8/E///NExEQSAVawAdlYAX6fg6bGaKppCRK6wGmkkTAuyxK76ox4Nx9+Uyt9T/1nyvuXsj7dh+S7uOhOBV4SZlwNA56FlPQXgoC0vGr2e5a5X+vS8i1kWI5////rvTzBR9g2//NExE8SQVKsAMvWlGvg6DBTSjFrRYzIoYKDfJWpzntZvOxi/8xR/BMo/b4c1BV/adsD6WkLbl84mNO1hHljTmgLty310fMaGjN+0T1WPnH9/lf3uqU7aoKYfaR///qe//NExFkW8WakANYelE7/orUGlQ4BDcEZgqM6b6GEiiQ+HHwJmfYJYZjpV3NPFY+SSPPFjnNsx78rv8Wy0P2xgo03DQMLC7Kd8J7BLFP682zgDuLEhJihUUFHB4ql1q01//NExFAZshqgANYamI+lqzo9TaLE+si3Uf3/////++fW76ZG7i2xGTe6yDksfgEwBIeNUsvKDXTAQahE4n5fLUyJdZkQOoWh5H1C/JhzQCUoEaBCjY6D2pyQCloDIUTw//NExDwV8XaoANSalG+RpwoqMEchVGGt1LKC5JUjAtk9VM2///51X6LlwlGiFdrjzsqwBNapnIW96Intcxt4e68C3o5YbIOrxPRSxdGY5PxX196aZIjTCbBAfwgIVrUQ//NExDcRwWa0AMPSlfyVQVy6//8FYzSj1Gtm6AjHMlSRdnUl6CIKUBEX4a4Xyi2Balhi3LrZecgXfaaXZ7Gr2OUA7NYCUAkYimYARD4TiKSSUPxQXjta3+4uab19c7WH//NExEMSGVawAMMWlVrUih6bdYsxszbPx2uOHDyqxlRFAqIIEJx9PImrYSPS3a33W2nez1c+vNR0JRJUAKAcnHUlKnl0ZJRPTN78lpfyeiKFTSoLFRRc1mU4RthKswrw//NExE0QcPKMAMLYcVKt6BF3fTFS+BmlVSSmmutVv4jp+/7K2Bp0nNElYToWA5CEdtSnLiQVScgFqDMwosFXOETWliGv//R/qZ//SgOGiACXBygGkOhcoBAITMR0IOHU//NExF4SaOJQAMoYcDuJlk/2T/T/vP1v59lA15hrycSAR6JLTKlyPau15FAXFj7zTq2DOr6LXqUyyY9sU2V3evo6ahaloNCvA8nB3uetROstWi3/wU/AL+n3w9cmhwAY//NExGcSUPpAAVQwABQQED6+Q8XOfEEwBBgEgAEEHp/NjQn3QBGcG5gB0xcRR/ZN7xNofOSSxcgy/80T1MgRpACbOmxiI//6KabtbFJjuHAWCbJMmzAof//+6ZqgUCog//NExHAhyyp0AZiYAMbnjNZQOf//9l3/qnEDxTlccxA0QKBIVSMaaNSn6qKRO41KEqtWdKk6pEwhPLntx+J0wVlMrhGpeNDluDmH7g40TCyVFAQe95w+2fShRu54IODA//NExDsRyM6oAclgAD7iSk/4p0l//X/1dKoRIACq3WpCG6kzkwvy3A5EcRRrlK6ziwaS4qeiYbabbsIqikxhbmk89Oizpeh+RoZHZ6YRqQLSDhBjR6O4P9dNgpFq6KP9//NExEYRmX6sACsGlHVnXYDu5u3n3i+KVl+LVnxHdVb5nugdscHrs4wUMJgUExsQ6GwsyeKW7sg+Cjf+oz5lvm4ala+NorYfJoVgA6toiPlLf/WtH1JE0oUIGFmyXwAE//NExFIR6XawAU9AAL0h1Pt91mO/B7uQMxBqz8Kg62MeROCWFSfrBGfs6ffKBrSriWxOIJ1jG9KB+qVfEPOMrFYyR4FKwJZ8rhy1EQ9ds6oZNZkzi8Pe8X+bvd/5vWBj//NExF0gYkKsAZh4AFXe6Tb7/NJ7Ztr4tq28a/+v//7Y+9//GNfOInplRcCGrfkv4QprzsDKQoEgOks8zNHkpVjpzLFT1SFZwparcRgmxYghpim8GqO8/GFFplySLieh//NExC4dkcK4AZh4ANLicyTNksSif3qbzNAfOy+N+YsZ/FieBiyuU6ucnrcxpyK7cMarSlIntBx3ua4h51PGi1+9//vcQdf/+KRO+hvrMFRWkAhVBuptBa5URRMSYkg4//NExAoUyQq0AZhIAJHSZragTsroZXB1nvgZPig/OGRiWKrgO22jK7cZIACFF2xKzVOJpf96BgwXfGC3bsFQlAiCTVMRyhj+iH/T//QS/f/wIwjD6w/VCYi4RCRJ5KIk//NExAkUEyq0AY0oAOZlufb//p/+2//Kqf/+v////ZKuuc7PI5BzsrMVVV3pYYqqomwyUyHHqJBwhGKr3Vytc1PQUPIKKPGiZUZcPuiqJBZjuqkBFSWf//////////////NExAsVEwq8AcEoAf+6uld0U6znM7kd8491IouOczMQgiMILCBAiDqPF2IQOh8WD8QFQmKDGD6iqhiCIgYOC8UGsY548UFHAA8eRgHQ4xxczHQ4gYDVQ4IAV7Ttf/hL//NExAkSCsbAABBGueL/1qafX//////n/M59590NptmrWlXElDUyFHSxTkxsKVhQkL6zNqVh1QUbClnLdVUyK3oloDE1BOFnlf4/UirexQivZRLHflkBkMWhHArOfjRZ//NExBMSqKa8AMPMTFm4bP7/KQY8fya3J6YhyAQAHARxwQJSQFnB8u8PkrS6zhAocDInF3+IsSjDyVhqJnnQ61H5L/EV55KRZmlUnv5HGobyIi3qYQCIzGXdOo+6JZ9r//NExBsRSWLAAMPGlfNWBHqsqNrQB0MRxqxineSTx9vRZhTN7UtEPREhkRiEMz+Px+hOhOI1fqr5BJDxodwZc8Ype1FS7gCnqvBgYyrHPKpVcM/nDCmV7s7jnVRMU4yo//NExCgSiXLAAHvGlGqisVxvW2lBUKIcEKEMBEBAQwwmSiLS/qxQsYFQQbBNQdXV7ijsB1xaolJYuq3SDSfzz5NZJsLo49Qi3RLQkfQ/k/GhFMyNxYn8XLhh9e2K+xpA//NExDARQVq4AMPGldTqsGdIKmDERlHFPfkbMMWDEmlKFZySDoU4ap35wAmc6xIBGgFZPZKLq5AXVXyQslaJOfZ6RW5iQS+N0sMaDLreL23Xea45TNi2Hqq7K+G++3/8//NExD4SoV6gANPGlGgYUdCioLCU7////rWL12oHHByX4WmYWI4GPcw4IcjWgQ1AhchQhKsH6A6oXZsEvDMIZr/MJzrFTOVvxOMc5XVEkLU8FQQYKhRBAROtWUEmoWZe//NExEYSCRqIAOPScMHVqoTIX2OlhKK0BYBoczq1YyWG6LCCnu7dCG0vHiRj11iGdpRJi/N0H7ZQ1kCoerzIsyFkkFgiRA55uaF5rF36blf///kLvRPrg19lYDhQZTHT//NExFARwRKEAOYacLAUDAwnQIFwGDiBK7udrtQN6thyGNRSK9kkMIpvSut9eXRvLd6Tt62mTXsIENWSO48TQe/b////H/rK0S35ckw6iDhIqMJggwKDDCoYeYVAQCCL//NExFwROPKIAOPWcHeoOJJMSkAZBLpFEIRn1uwPnUbLtZMvbjH94xsaxwIcBB0BXf99n2oPLf//waeo8WVo+pUWODGBowcEPwmgCIggQCg2RAjO2rwJnKpmzrLWNYOj//NExGoSkOJ0AOMGcBg4VO1NO1JXFzsasJ2d+dqerzq3RK76l/2/77rfkRRoqAjBA3WssI+oOwuw5UE//Pir+9BBAdwwwW7wvYw5Lj0LqSRh8ehQHuX3MyRKh7Di/N06//NExHIPQFJMAVsYAAggXUSebG5b/N05cQYzJg5C6MASI5wWv/m99DcZYWYng8CwpjkTJD/+6rp7dFIkhkJFwvpj3QQOf//v9P3zpaOcvHjckEBhxluEjHuXlQ0cUMf///NExIggkyp0AZloAP////////////+5z///jL5v+TrNnSVHDyiBgkiJA2FyAjBdpiYGCjcHIWnTHV27RwnVoTRQwp6X29FGoD0p1NKdGUlBJs8vSNpUn6BknRMh4MKt//NExFggIxqoAcVIAZcTvVDaNEwUagUZCiiZOTzNrEgIAAAIDBhCqUBCIgAAGHnLs/NtA7alC5vafo3/q3/qedP1ckjt1Fh0R5xUJOlJRTC4uUVa1ldDBpcyyvZi1p/d//NExCobSw64ABCSuf/nfJeUIQruyEIxjKSg2kj51DiBKMrwk3CMooQVrSW7uEr+pkUJGucU2RFJYgOto1S6NjEriQoYCmiyr7VhNPGkYROqL8hjBv+snm5foAr/0qiA//NExA8VWv7AAAhMuYYo5iC5nydZK8w/pL+1m5ja1bXb/Lva3P5///x/P7Mve3R+Vsy8U75kuer+in+4d9nGhwo7TWIzktbFvcNtGqdVX76QK2FV7i5sQElzkj2GZ7/G//NExAwU8uK4AEhKuFn4E2ya7GJCkAM7DIyLYBF+qGEhYWKAowWOrsmW2zSqyJ/rR0X9DsdbXo7vNUhDVZMYpMVlZpZW1WhhMsSMgspSs9nEjTIaoZ+zeAlhYbTXIaar//NExAsQiIasAMJQSKAEGyIl/TUncWqXQwJyYPIPUFRC4sVYBQ6XEbiQNfAsOPoN/fLf+y3I9JYrySxKzU/9rCss9MqqStjiDB1iAKIMroFhCIb3oBUrY5FsfAigi2NW//NExBsRsUp0AMJElMipMRH4kQmQxjmSqW9MzLyVQUqOYM+/ZZrVLVqllhgox/XLd////7aVEW+uNrINIKAxYw7o8UVRgxAtGmGIATCjdLc72rv5ltRFClyRz5qsq9yu//NExCcSGU5IANGGlNOO/VBAyuVKNz/4fFh3qqAjklSSY5v/17+zUW8NX2/RTXUzEvA4S04yjLEYYXSaM8LqlAqVWlK+yLhjYFGFBVrK2AEsHgsA2FYVSQAJkAloxk7V//NExDERGH48ANlESNDB9hH+uuoWMVUCPzt73ld+x6kKOoTwUPRQAIgKF2c0FS2Pm2Cc8Qkkw49I1hBTjVgwsh5le6pjGihBi1LvPSw3o7BQtUvsajPtpi2pJFFVC6Ht//NExD8QWCY8AVsQAGDhlaXEzOchQQa866P4sQn+ui4ReTFTUwfGGJxO6QncgDcUUcQjwZodwF4W0G53xSiAn8uE4JgLmHEO0kPysYvUaFgnEjI6r+buaH6aJ9kz6KKX//NExFAf2yKYAY+AAf01k2V/nCIl4gxmipBP//Q+pq0lnkjRBamVV//6boIIO1qG+mg5gZGpumVzQ3MRqiy5k53edNvfnlpz2mkOPZ5MydTChGKB4IEBEPLoCZ6HMRAs//NExCMRYMKsAcZIAIEgCYCD9QFDrHuExNr+sAsCT3gVg/b+EtCF+zXGeVstap6K1bbsYgRmnurnXXS0cYULRzBuI5bMAIEw5O0ii52TDyh/csCxOsusgYTuUHZB0PWZ//NExDAR+PKsAMMScGpm0xjQTKBChWiNBgaDj2Piv//0aOlED9ZvUI8mWW7jFG+7MiESapoiH5HjH8EHpDVgz4Tswzxo3DsfMWgNSFBbzLi7fuW8wK+kD72LLlRFdnRV//NExDsVIWa0AMvSlP143F/9f+Eqp0bTfk12lBiz//750Wa26AqF3lGQxaLNqSojS7TwBxXGGJOKS9agfA/nMu4hyqwuS3RWNVVyuyTqFkHrNhpaoNLQIv3DfWkgvn0r//NExDkVmQK4AMPecLZXSgY2WDJCCgsDQCMSAdBs6EROKnwyv///c3q9Cv+VHLtfiqc5jdVPAubM21rAD8OG6nTUGIpFFvap+m1Dna7VRyrK5H8+b3KDmLCjHnbRh6R4//NExDUU0W60AMPMlCJHCCKCFftqKn+ZvzXl6ee7tJUlQM7//8c4GNW9Jur6iyz9SU/iqrT2G73srjTceDgVaSAlnEcpUhdaxNUaemIgKbPIntksZY02WyBuhCyJMlGR//NExDQSgW6sAMpMlPLimdsf03x2jt/MdVBJMyQ//71d/WmrNI6hICK5pvT0lX7J4YComsuFDVgY6PPalI14+Lw7S3Z6wjRli4jEZVfTIuv15mZS4rTTDI0MA9P5AJmg//NExD0SAPasANPScAqOC7Biv//pEA6UsalwmWwwNbsdRvgaidpWG7PmLZLMnkkd4L3zKRWx161HesoUJTw4HkijE7GFC0yR4YA6EwD7TxP82/v/s/5++kNJtRZt5f////NExEgSqWa0AMMMlOqPVb90ZSs2CENZSvN1HLLho03opybw1bltJVxz5y7mTuo4nHykw2H5ikKBoVkglJScqlWmGRS2utCs8fcPm+/4+/1406lQbYJP//+tBRpPUBOB//NExFAScV64AVhIACNEqjVIOxAaYR6AJ4FiOo0epYOrC2qscZLGdCfOd/bxWFEn8jU6xp9yrjLawEeAYBNgGAX5gnEJiMRuOYFkT0hJ+hwjbMRdKVaUa+zslpWbbl25//NExFkf+XqcAZl4APMziaZynm4O4DdMq5Zdd8+e3ziYL8n/5kIjDG76v9gb+H1HPQkGUgpEgMFrEjS7QVEF7oIzCU3WJTgkyzpfDj/sRhcatE0r2d8ztdZIbE3s+HOj//NExCwbiXKoAZh4AHyq0upYwVw6UGuB0ibmXDF1DFJekzRHqPFVN0Oh/mWt5n0q26akWLm2cxH+7wHBRue86iRZnsEMP5/rb93/2/1HzNUhGAAr0GrIcg5jugyKAwUM//NExBAUaU64AZhgAcILd0cSeSNtAojmsB+xpm3da7AytecdWOOGYigW0ckEBZmWyRU7PSunPh6Vu5aqAZ2tW6T79kzZLK2lZpsQ9dNLMi56t6VpaIlMLMb0lczFYqvE//NExBEVcWq0AZhgANaflSI7+Dz4XC7VQWzwkGCy062oVkwSCeSzYeAFD9CephraKxirOtn9SnvZb0E83evDv0yZrAy7My4vZt3fb3AQHt5rri3bT0FQEYlQGUYUw1VE//NExA4UuU6wAZhgAGAr0SPEpPsUScxH9t2VroijsegEJh5SELjEQRCAZglgXOzgSVrR0ZH6yqNZTvmUrs/azi/J+lvn+6WXemuT6yzVidkt15UhyKQlUyqrdF12h49I//NExA4UkUqkAdh4ASRWGhOJcWsyUsydaQtagReTqKJNMTcIeGKQsWFVxUs9cvnEe0f39fBzB8HwfjeHeHPD/VPrzebO/8wNQKN1673Nl3velYwm4kiyIW3A6urylEDp//NExA4SaU6sAVhoAUT+CQkfFglLFZoEbKyyQK8hhbrtLpauCRDUJkaE5ak16d9tTK101Uk0nQSQW7GCjBIwd2VQebrNJt732kJwAEKnLB0EI6pzRkKmIyBMMtkPFXQE//NExBcXYW6wAZiQADlYwwKPwWhhiYAkhZQJgCMwbzAnIoIPXPvEEieNoj4uqW2qiyknVUtTprQU+qdLVJFZoX0DhxBTUXLKTrSZE+XjEKI6n8HK47IXUyItWNBXKrp2//NExAwR2WaoAdgoAJGxuTjh0H4RyeVBCzdyUeGYKnVhVwBlodVaAYOgdxFUd6WZ/tRadNNugsgEMLj2aIOoZFDGHFSNnDRNdb8EjmXXdkSxDpfVocBF24usGX4ZSFpo//NExBcSCWqoAMRKlI/D5RHJJBj46wFqAtg5QMRHSCkgYouyvXZl+qyran2pupmMBTmYh1FxzC1CxsbTcdWqs2gAgoPRBddqAVFJOhNIluiX1YI4QqZjjxIlMtL2pGL1//NExCESaWqkAMYElUjV2QE/suprV7HD/1/7/ff/v/pttTX7wbEGPFIUgQ4G4VkFEEsO5h7FrwAVOIerI4Ljf0YJpYyChIm8o8CRYPYC+oxoQFEeB/wguIUEYhspFECo//NExCoRWWagAMzKlW7I761O9dezf2p/szipWeNYkcxTnCKxp0jnW4q7DhjzDzkvM0J+mfgIKdVQDjbLLoSWQtCIsRgKaO0LLwXAzGVFLSHUzZ1vWlQSqf3kNI/9/exk//NExDcROWKYAMyElSNyuUQcMcgJUDAyKQorkbYzB1yIbLBaDbIQbTYmmu3seSJjIpMN9FyCFhYBHAAlDTSbIcPROF1RVZfWt9FqKqTTurTU+u9H2ms6moGOw7ngjrCL//NExEUSOVqQANRElH///9BD4lGmw3ISzKnx5K1saBNozBnr4ikwHbaLM5CcF5eEuSOEJcGJ7W0LGS4cpEbUjI23EhtqflgCNSeFiCD0GhEaCViTVUfAKlnMPZlAeZIH//NExE8Q2NJ4ANPGcKEppg0BJeEQCtdVp5nIZaMXZhKQ3gDYkyqOVFTzq60bX083Kio+yiZB1jhxbERaLHWqJExFNIIwVDTC3///zSo38ipOZghaNHhOdDoQDkJxK4Lj//NExF4SiNJkANvEcEUFY2aNndWHpm1jjLkJEVGg+H0DbG54yl8nmxknZyKiosHjR4ga7eL9TOsio2VqTotOgslA4nH4tVFhAwMxgmJYLoaFzYKE3oQQIMCR+seoTuYQ//NExGYPgLocAM4STAK4VDN6a2JscqlNrcA+pHpioeUEpgoaU3olWdT9b4EqGvDCKsSaXWFIYELJIH7TIGBCwsOCcEcVB4CNEgnCIDOEUBYCQ+lg2fQ0cROJnCk0iNuT//NExHsR0GH0AMJGKHsvTc16LyKk3EFvRc0Ylb2L7f/11QCtOBkDZIxCIEhiOIzY+jLrtm0YQIIECAgRBnDh4eHhgAAABAeHx05YQgoULzr16YspRdevb7a+3999/+2v//NExIYRyGXsAMJEKP//+2k5/gVegKQ3Xk26+IswCha3OxuEZwjsmQChhJEKLHHjTCJRrFsfJnIcy8voeNzcpN7esMQIJ3TGQZDRCEY7nnkDI9pkyaaGY73bv93Wgwwy//NExJEQcHXgAMJGSd4QIEEEMZoZttey55MHJn/CZMLTT3Wa3ubc88nEbaZNO6ctM/XhAgu25kEIj3l5uMgeFk07qDMQj1RSFQRDIpQ6qhQoWc8uIQhPEIQhCELxCEIQ//NExKIhuxnYAMmMvH/whCEKmEIQ8Zl9mZmPZgwpm9mZmP/9VL2VVUtmZV/+qzN1QEBAWbVVVVb//VmZm1VWbqqpdVVUvZVVVVVU9VAQEBUlAgbAGPgIAAwRhswXFb1E//NExG4XuxXcAEhGuRi865xCp/lXeImggnd9HOIXT/+vohohO5ohwt9E0Su+iaIVc9E4hV3iOaITucd+IX///78Qq77ueiFuhV3iJoVfRN0JxZoAJUQq7vEAzCAAigYG//NExGIY0xnUAEjGvfHVEmIoorjw1an3WS0WRNdfmIQFTTcdxrBgAIKhAIIRtnl4USqRwc8SbaSSyjm8zn2IzIMKqUlnkUWSS6Wuba9c2JI4UdpZuvKoqmxKnLNw4lpy//NExFEhoyHYAMGMvEtyM6kl2KbvmfM/aGb7u7Js0dPqtuZnEUco7zPmWOqUcLIosSStEjUmmyxySziRLkQlEoGRxREU4JR9YU5T/w7GGtAZQyFIBRKxMqTIoxYNQok4//NExB0X4JXcAMJGTcBATGGDET1PQzFJoQZ+SU2oKfCO6KlxxJdFaCscmxooK7BNeKhZYmvBvhPc4K+E/zf/zfiuyO+0J+R1wXeJI0aC7nUKUByWvN+1CNwU9fYzTQwW//NExBAT2OHsAMGGcAA6TAAgsv2kN3do1LnuwMtIHTi4zwkYjD494eFEmUEzzhCxwkqRNmVlQ5WxylOStiRXPj5ndWypu+ldCrEbvWoscUsYY565uzkPv0NPEGkSZ24E//NExBMTuIHwAMGGSA4UPKFBiHNh3KMIwSPBExMJcQdCUDPnbVV7j80ilRaiFVnhZrWipciXOBZ4ENGTJky5D0LASnKisVtt1x2hNFnEUYG/L8xquGCMqIVoI8aGZ1o1//NExBcRmKHwAMJGTAKY4hQzMI2CQclA+dB4DhMgbCbDAFcgYfKgB4mZJkXNSQk7H1W7bmJ91Vnv0f/9Kg6R1j8L+0K1CW4leyzMoOCOBWIUwDCBEGUQIHhoqPAIEHJF//NExCMQuGH0AHpGKJIqaPjmyt3dUqkzaK5l6xViDT0irYcNVN3f9O1mNrZRLkLgco43xyGRGG2Q228EDhwHARB8RkBOUWJ3scDgDCwYB8TnxANDxNH//u2f39x8ufBA//NExDMRcDHwAHvSAGh8TlDgnHg+UdrHHAcLnyhwQF0KoR/abjRXiA9QBMdhWFCGPAygqKnjSxwMliU+lwtVZ0ziWLW92vD5QwaUXapWr3MbW7NLQ7vpNXuVvlkxevj1//NExEAP4Fn8AMGGJAIgwFSQwWDQgrbRIbeQEQCBhjzptopKgIDCUOtqX2lh7p2DTUysqAjxUwwNB1Z7tJY9f2nsXLP5I8PSSCo1woj/QMVWUCmsTh0eBuPRVSoASB+D//NExFMQoFIAAGGEJBxhNIykkiRSp+a2fDZoZgiEP3K3FkB3a6tCyhM/GjkY5OlWOTSx60setCsAk3rQdwCSxuNJO3YUGoVo5bonaA7iSEShwqE5eKzU14Ah2vEqGtFR//NExGMSYN3kAGGGcK16CSztWwcabmpbTry2yfr2V/H9OcXKbkxhajT/LHHSlJCvtFj77a5DTvLQMU/MktJ9Usu6uHTilJtJSd3b3e/Wwyy65c18+9628up9vDZDtncI//NExGwgssX0AMMMuc/Lp+2vv9sfvdurY9/GznvIIFe21ZVh6SBtCxF+HqQp8rgJNQMSJEq//o+BgJSZmYCAmUBVV2YCARICxCdBo8DQKgqCowGXSz/gqdRKgrrBXlQV//NExDwSKL38AHmGTAVcdiV3K1A0/9q3fJJMQU1FMy4xMDCqqqqqqqqqqqqqqqqqqqqqqqqqqqqqqqqqqqqqqqqqqqqqqqqqqqqqqqqqqqqqqqqqqqqqqqqqqqqqqqqq//NExEYAAANIAAAAAKqqqqqqqqqqqqqqqqqqqqqqqqqqqqqqqqqqqqqqqqqqqqqqqqqqqqqqqqqqqqqqqqqqqqqqqqqqqqqqqqqqqqqqqqqqqqqqqqqqqqqqqqqqqqqq\" type=\"audio/x-wav\" />\n",
       "                    Your browser does not support the audio element.\n",
       "                </audio>\n",
       "              "
      ],
      "text/plain": [
       "<IPython.lib.display.Audio object>"
      ]
     },
     "metadata": {},
     "output_type": "display_data"
    }
   ],
   "source": [
    "record()"
   ]
  },
  {
   "cell_type": "code",
   "execution_count": null,
   "metadata": {
    "id": "h3gTmzuZ4hdr"
   },
   "outputs": [],
   "source": []
  }
 ],
 "metadata": {
  "accelerator": "GPU",
  "colab": {
   "authorship_tag": "ABX9TyPoWG+FnCmZWvukpboYn5dN",
   "collapsed_sections": [],
   "provenance": []
  },
  "kernelspec": {
   "display_name": "Python 3 (ipykernel)",
   "language": "python",
   "name": "python3"
  },
  "language_info": {
   "codemirror_mode": {
    "name": "ipython",
    "version": 3
   },
   "file_extension": ".py",
   "mimetype": "text/x-python",
   "name": "python",
   "nbconvert_exporter": "python",
   "pygments_lexer": "ipython3",
   "version": "3.11.5"
  },
  "widgets": {
   "application/vnd.jupyter.widget-state+json": {
    "0631bd7dddab48de8cc9168c2a642735": {
     "model_module": "@jupyter-widgets/controls",
     "model_module_version": "1.5.0",
     "model_name": "ProgressStyleModel",
     "state": {
      "_model_module": "@jupyter-widgets/controls",
      "_model_module_version": "1.5.0",
      "_model_name": "ProgressStyleModel",
      "_view_count": null,
      "_view_module": "@jupyter-widgets/base",
      "_view_module_version": "1.2.0",
      "_view_name": "StyleView",
      "bar_color": null,
      "description_width": ""
     }
    },
    "1928c83496774318b0adf41f3542ea56": {
     "model_module": "@jupyter-widgets/base",
     "model_module_version": "1.2.0",
     "model_name": "LayoutModel",
     "state": {
      "_model_module": "@jupyter-widgets/base",
      "_model_module_version": "1.2.0",
      "_model_name": "LayoutModel",
      "_view_count": null,
      "_view_module": "@jupyter-widgets/base",
      "_view_module_version": "1.2.0",
      "_view_name": "LayoutView",
      "align_content": null,
      "align_items": null,
      "align_self": null,
      "border": null,
      "bottom": null,
      "display": null,
      "flex": null,
      "flex_flow": null,
      "grid_area": null,
      "grid_auto_columns": null,
      "grid_auto_flow": null,
      "grid_auto_rows": null,
      "grid_column": null,
      "grid_gap": null,
      "grid_row": null,
      "grid_template_areas": null,
      "grid_template_columns": null,
      "grid_template_rows": null,
      "height": null,
      "justify_content": null,
      "justify_items": null,
      "left": null,
      "margin": null,
      "max_height": null,
      "max_width": null,
      "min_height": null,
      "min_width": null,
      "object_fit": null,
      "object_position": null,
      "order": null,
      "overflow": null,
      "overflow_x": null,
      "overflow_y": null,
      "padding": null,
      "right": null,
      "top": null,
      "visibility": null,
      "width": "20px"
     }
    },
    "4c0ba7281d7c4d8ba1d9299f023c4daf": {
     "model_module": "@jupyter-widgets/controls",
     "model_module_version": "1.5.0",
     "model_name": "HTMLModel",
     "state": {
      "_dom_classes": [],
      "_model_module": "@jupyter-widgets/controls",
      "_model_module_version": "1.5.0",
      "_model_name": "HTMLModel",
      "_view_count": null,
      "_view_module": "@jupyter-widgets/controls",
      "_view_module_version": "1.5.0",
      "_view_name": "HTMLView",
      "description": "",
      "description_tooltip": null,
      "layout": "IPY_MODEL_f9f0b29bb8884ec1893dfb04b70b8344",
      "placeholder": "​",
      "style": "IPY_MODEL_f16552756a9a4d9f9b80f655ee7c0ce7",
      "value": " 0/0 [00:00&lt;?, ?it/s]"
     }
    },
    "51634bfe3b0440f8b43101121808804b": {
     "model_module": "@jupyter-widgets/controls",
     "model_module_version": "1.5.0",
     "model_name": "DescriptionStyleModel",
     "state": {
      "_model_module": "@jupyter-widgets/controls",
      "_model_module_version": "1.5.0",
      "_model_name": "DescriptionStyleModel",
      "_view_count": null,
      "_view_module": "@jupyter-widgets/base",
      "_view_module_version": "1.2.0",
      "_view_name": "StyleView",
      "description_width": ""
     }
    },
    "77f8104c74cb4bfdadac87f433589a8e": {
     "model_module": "@jupyter-widgets/controls",
     "model_module_version": "1.5.0",
     "model_name": "HBoxModel",
     "state": {
      "_dom_classes": [],
      "_model_module": "@jupyter-widgets/controls",
      "_model_module_version": "1.5.0",
      "_model_name": "HBoxModel",
      "_view_count": null,
      "_view_module": "@jupyter-widgets/controls",
      "_view_module_version": "1.5.0",
      "_view_name": "HBoxView",
      "box_style": "",
      "children": [
       "IPY_MODEL_a6c5fa4559a74148af8a817f71b7eb78",
       "IPY_MODEL_c1c83d1d53fd46668f579e356a853a6e",
       "IPY_MODEL_4c0ba7281d7c4d8ba1d9299f023c4daf"
      ],
      "layout": "IPY_MODEL_98dc060e719f495b8b3492cd75655189"
     }
    },
    "98dc060e719f495b8b3492cd75655189": {
     "model_module": "@jupyter-widgets/base",
     "model_module_version": "1.2.0",
     "model_name": "LayoutModel",
     "state": {
      "_model_module": "@jupyter-widgets/base",
      "_model_module_version": "1.2.0",
      "_model_name": "LayoutModel",
      "_view_count": null,
      "_view_module": "@jupyter-widgets/base",
      "_view_module_version": "1.2.0",
      "_view_name": "LayoutView",
      "align_content": null,
      "align_items": null,
      "align_self": null,
      "border": null,
      "bottom": null,
      "display": null,
      "flex": null,
      "flex_flow": null,
      "grid_area": null,
      "grid_auto_columns": null,
      "grid_auto_flow": null,
      "grid_auto_rows": null,
      "grid_column": null,
      "grid_gap": null,
      "grid_row": null,
      "grid_template_areas": null,
      "grid_template_columns": null,
      "grid_template_rows": null,
      "height": null,
      "justify_content": null,
      "justify_items": null,
      "left": null,
      "margin": null,
      "max_height": null,
      "max_width": null,
      "min_height": null,
      "min_width": null,
      "object_fit": null,
      "object_position": null,
      "order": null,
      "overflow": null,
      "overflow_x": null,
      "overflow_y": null,
      "padding": null,
      "right": null,
      "top": null,
      "visibility": null,
      "width": null
     }
    },
    "a6c5fa4559a74148af8a817f71b7eb78": {
     "model_module": "@jupyter-widgets/controls",
     "model_module_version": "1.5.0",
     "model_name": "HTMLModel",
     "state": {
      "_dom_classes": [],
      "_model_module": "@jupyter-widgets/controls",
      "_model_module_version": "1.5.0",
      "_model_name": "HTMLModel",
      "_view_count": null,
      "_view_module": "@jupyter-widgets/controls",
      "_view_module_version": "1.5.0",
      "_view_name": "HTMLView",
      "description": "",
      "description_tooltip": null,
      "layout": "IPY_MODEL_c559760ced4548ec893503033fd0ce01",
      "placeholder": "​",
      "style": "IPY_MODEL_51634bfe3b0440f8b43101121808804b",
      "value": ""
     }
    },
    "c1c83d1d53fd46668f579e356a853a6e": {
     "model_module": "@jupyter-widgets/controls",
     "model_module_version": "1.5.0",
     "model_name": "FloatProgressModel",
     "state": {
      "_dom_classes": [],
      "_model_module": "@jupyter-widgets/controls",
      "_model_module_version": "1.5.0",
      "_model_name": "FloatProgressModel",
      "_view_count": null,
      "_view_module": "@jupyter-widgets/controls",
      "_view_module_version": "1.5.0",
      "_view_name": "ProgressView",
      "bar_style": "success",
      "description": "",
      "description_tooltip": null,
      "layout": "IPY_MODEL_1928c83496774318b0adf41f3542ea56",
      "max": 1,
      "min": 0,
      "orientation": "horizontal",
      "style": "IPY_MODEL_0631bd7dddab48de8cc9168c2a642735",
      "value": 0
     }
    },
    "c559760ced4548ec893503033fd0ce01": {
     "model_module": "@jupyter-widgets/base",
     "model_module_version": "1.2.0",
     "model_name": "LayoutModel",
     "state": {
      "_model_module": "@jupyter-widgets/base",
      "_model_module_version": "1.2.0",
      "_model_name": "LayoutModel",
      "_view_count": null,
      "_view_module": "@jupyter-widgets/base",
      "_view_module_version": "1.2.0",
      "_view_name": "LayoutView",
      "align_content": null,
      "align_items": null,
      "align_self": null,
      "border": null,
      "bottom": null,
      "display": null,
      "flex": null,
      "flex_flow": null,
      "grid_area": null,
      "grid_auto_columns": null,
      "grid_auto_flow": null,
      "grid_auto_rows": null,
      "grid_column": null,
      "grid_gap": null,
      "grid_row": null,
      "grid_template_areas": null,
      "grid_template_columns": null,
      "grid_template_rows": null,
      "height": null,
      "justify_content": null,
      "justify_items": null,
      "left": null,
      "margin": null,
      "max_height": null,
      "max_width": null,
      "min_height": null,
      "min_width": null,
      "object_fit": null,
      "object_position": null,
      "order": null,
      "overflow": null,
      "overflow_x": null,
      "overflow_y": null,
      "padding": null,
      "right": null,
      "top": null,
      "visibility": null,
      "width": null
     }
    },
    "f16552756a9a4d9f9b80f655ee7c0ce7": {
     "model_module": "@jupyter-widgets/controls",
     "model_module_version": "1.5.0",
     "model_name": "DescriptionStyleModel",
     "state": {
      "_model_module": "@jupyter-widgets/controls",
      "_model_module_version": "1.5.0",
      "_model_name": "DescriptionStyleModel",
      "_view_count": null,
      "_view_module": "@jupyter-widgets/base",
      "_view_module_version": "1.2.0",
      "_view_name": "StyleView",
      "description_width": ""
     }
    },
    "f9f0b29bb8884ec1893dfb04b70b8344": {
     "model_module": "@jupyter-widgets/base",
     "model_module_version": "1.2.0",
     "model_name": "LayoutModel",
     "state": {
      "_model_module": "@jupyter-widgets/base",
      "_model_module_version": "1.2.0",
      "_model_name": "LayoutModel",
      "_view_count": null,
      "_view_module": "@jupyter-widgets/base",
      "_view_module_version": "1.2.0",
      "_view_name": "LayoutView",
      "align_content": null,
      "align_items": null,
      "align_self": null,
      "border": null,
      "bottom": null,
      "display": null,
      "flex": null,
      "flex_flow": null,
      "grid_area": null,
      "grid_auto_columns": null,
      "grid_auto_flow": null,
      "grid_auto_rows": null,
      "grid_column": null,
      "grid_gap": null,
      "grid_row": null,
      "grid_template_areas": null,
      "grid_template_columns": null,
      "grid_template_rows": null,
      "height": null,
      "justify_content": null,
      "justify_items": null,
      "left": null,
      "margin": null,
      "max_height": null,
      "max_width": null,
      "min_height": null,
      "min_width": null,
      "object_fit": null,
      "object_position": null,
      "order": null,
      "overflow": null,
      "overflow_x": null,
      "overflow_y": null,
      "padding": null,
      "right": null,
      "top": null,
      "visibility": null,
      "width": null
     }
    }
   }
  }
 },
 "nbformat": 4,
 "nbformat_minor": 1
}
